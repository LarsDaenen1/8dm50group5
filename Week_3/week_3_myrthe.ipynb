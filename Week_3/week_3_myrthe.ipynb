{
 "cells": [
  {
   "cell_type": "markdown",
   "metadata": {},
   "source": [
    "# Preliminaries\n",
    "\n",
    "The `pandas` library allows the user several data structures for different data manipulation tasks:\n",
    "1. Data storage through its `Series` and `DataFrame` data structures.\n",
    "2. Data filtering using multiple methods from the package.\n",
    "3. Reading data from many different file formats such as `csv`, `txt`, `xlsx`, ...\n",
    "\n",
    "Below we provide a brief overview of the `pandas` functionalities needed for these exercises. The complete documentation can be found on the [`pandas` website](https://pandas.pydata.org/).\n",
    "\n",
    "## Pandas data structures\n",
    "\n",
    "### Series\n",
    "The Pandas Series data structure is similar to a one-dimensional array. It can store any type of data. The values are mutable but the size not.\n",
    "\n",
    "To create `Series`, we call the `pd.Series()` method and pass an array. A `Series` may also be created from a numpy array."
   ]
  },
  {
   "cell_type": "code",
   "execution_count": 1,
   "metadata": {},
   "outputs": [
    {
     "name": "stdout",
     "output_type": "stream",
     "text": [
      "0       1\n",
      "1      10\n",
      "2     100\n",
      "3    1000\n",
      "dtype: int64\n",
      "\n",
      "\n",
      "0          PSV\n",
      "1         Ajax\n",
      "2    Feyenoord\n",
      "3       Twente\n",
      "dtype: object\n"
     ]
    }
   ],
   "source": [
    "import pandas as pd\n",
    "import numpy as np\n",
    "\n",
    "first_series = pd.Series([1,10,100,1000])\n",
    "\n",
    "print(first_series)\n",
    "\n",
    "teams = np.array(['PSV','Ajax','Feyenoord','Twente'])\n",
    "second_series = pd.Series(teams)\n",
    "\n",
    "print('\\n')\n",
    "print(second_series)"
   ]
  },
  {
   "cell_type": "markdown",
   "metadata": {},
   "source": [
    "### DataFrame\n",
    "One can think of a `DataFrame` as a table with rows and columns (2D structure). The columns can be of a different type (as opposed to `numpy` arrays) and the size of the `DataFrame` is mutable.\n",
    "\n",
    "To create `DataFrame`, we call the `pd.DataFrame()` method and we can create it from scratch or we can convert a numpy array or a list into a `DataFrame`."
   ]
  },
  {
   "cell_type": "code",
   "execution_count": 2,
   "metadata": {},
   "outputs": [
    {
     "name": "stdout",
     "output_type": "stream",
     "text": [
      "From scratch: \n",
      "    Position       Team  GF  GA  Points\n",
      "0         1        PSV  80  30      79\n",
      "1         2       Ajax  75  25      78\n",
      "2         3  Feyenoord  75  40      70\n",
      "3         4     Twente  70  60      66 \n",
      "\n",
      "From list: \n",
      "   Position       Team  GF  GA Points\n",
      "0        1        PSV  80  30     79\n",
      "1        2       Ajax  75  25     78\n",
      "2        3  Feyenoord  75  40     70\n",
      "3        4     Twente  70  60     66 \n",
      "\n",
      "From numpy array: \n",
      "   Position       Team  GF  GA Points\n",
      "0        1        PSV  80  30     79\n",
      "1        2       Ajax  75  25     78\n",
      "2        3  Feyenoord  75  40     70\n",
      "3        4     Twente  70  60     66 \n",
      "\n"
     ]
    }
   ],
   "source": [
    "# DataFrame from scratch\n",
    "first_dataframe = pd.DataFrame({\n",
    "    \"Position\": [1, 2, 3, 4],\n",
    "    \"Team\": ['PSV','Ajax','Feyenoord','Twente'],\n",
    "    \"GF\": [80, 75, 75, 70],\n",
    "    \"GA\": [30, 25, 40, 60],\n",
    "    \"Points\": [79, 78, 70, 66]\n",
    "})\n",
    "\n",
    "print(\"From scratch: \\n {} \\n\".format(first_dataframe))\n",
    "\n",
    "# DataFrme from a list\n",
    "data = [[1, 2, 3, 4], ['PSV','Ajax','Feyenoord','Twente'], \n",
    "        [80, 75, 75, 70], [30, 25, 40, 60], [79, 78, 70, 66]]\n",
    "columns = [\"Position\", \"Team\", \"GF\", \"GA\", \"Points\"]\n",
    "\n",
    "second_dataframe = pd.DataFrame(data, index=columns)\n",
    "\n",
    "print(\"From list: \\n {} \\n\".format(second_dataframe.T)) # the '.T' operator is explained later on\n",
    "\n",
    "# DataFrame from numpy array\n",
    "data = np.array([[1, 2, 3, 4], ['PSV','Ajax','Feyenoord','Twente'], \n",
    "                 [80, 75, 75, 70], [30, 25, 40, 60], [79, 78, 70, 66]])\n",
    "columns = [\"Position\", \"Team\", \"GF\", \"GA\", \"Points\"]\n",
    "\n",
    "third_dataframe = pd.DataFrame(data.T, columns=columns)\n",
    "\n",
    "print(\"From numpy array: \\n {} \\n\".format(third_dataframe))"
   ]
  },
  {
   "cell_type": "markdown",
   "metadata": {},
   "source": [
    "### DataFrame attributes\n",
    "This section gives a quick overview of some of the `pandas.DataFrame` attributes such as `T`, `index`, `columns`, `iloc`, `loc`, `shape` and `values`."
   ]
  },
  {
   "cell_type": "code",
   "execution_count": 3,
   "metadata": {},
   "outputs": [
    {
     "name": "stdout",
     "output_type": "stream",
     "text": [
      "            0     1          2       3\n",
      "Position    1     2          3       4\n",
      "Team      PSV  Ajax  Feyenoord  Twente\n",
      "GF         80    75         75      70\n",
      "GA         30    25         40      60\n",
      "Points     79    78         70      66\n"
     ]
    }
   ],
   "source": [
    "# transpose the index and columns\n",
    "print(third_dataframe.T)"
   ]
  },
  {
   "cell_type": "code",
   "execution_count": 4,
   "metadata": {},
   "outputs": [
    {
     "name": "stdout",
     "output_type": "stream",
     "text": [
      "RangeIndex(start=0, stop=4, step=1)\n"
     ]
    }
   ],
   "source": [
    "# index makes reference to the row labels\n",
    "print(third_dataframe.index)"
   ]
  },
  {
   "cell_type": "code",
   "execution_count": 5,
   "metadata": {},
   "outputs": [
    {
     "name": "stdout",
     "output_type": "stream",
     "text": [
      "Index(['Position', 'Team', 'GF', 'GA', 'Points'], dtype='object')\n"
     ]
    }
   ],
   "source": [
    "# columns makes reference to the column labels\n",
    "print(third_dataframe.columns)"
   ]
  },
  {
   "cell_type": "code",
   "execution_count": 6,
   "metadata": {},
   "outputs": [
    {
     "name": "stdout",
     "output_type": "stream",
     "text": [
      "0          PSV\n",
      "1         Ajax\n",
      "2    Feyenoord\n",
      "3       Twente\n",
      "Name: Team, dtype: object\n"
     ]
    }
   ],
   "source": [
    "# iloc allows to access the index by integer-location (e.g. all team names, which are in the second columm)\n",
    "print(third_dataframe.iloc[:,1])"
   ]
  },
  {
   "cell_type": "code",
   "execution_count": 7,
   "metadata": {},
   "outputs": [
    {
     "name": "stdout",
     "output_type": "stream",
     "text": [
      "PSV\n"
     ]
    }
   ],
   "source": [
    "# loc allows to access the index by label(s)-location (e.g. all team names, which are in the \"Team\" columm)\n",
    "print(third_dataframe.loc[0, 'Team'])"
   ]
  },
  {
   "cell_type": "code",
   "execution_count": 8,
   "metadata": {},
   "outputs": [
    {
     "name": "stdout",
     "output_type": "stream",
     "text": [
      "(4, 5)\n"
     ]
    }
   ],
   "source": [
    "# shape returns a tuple with the DataFrame dimension, similar to numpy\n",
    "print(third_dataframe.shape)"
   ]
  },
  {
   "cell_type": "code",
   "execution_count": 9,
   "metadata": {},
   "outputs": [
    {
     "name": "stdout",
     "output_type": "stream",
     "text": [
      "[['1' 'PSV' '80' '30' '79']\n",
      " ['2' 'Ajax' '75' '25' '78']\n",
      " ['3' 'Feyenoord' '75' '40' '70']\n",
      " ['4' 'Twente' '70' '60' '66']]\n"
     ]
    }
   ],
   "source": [
    "# values return a Numpy representation of the DataFrame data\n",
    "print(third_dataframe.values)"
   ]
  },
  {
   "cell_type": "markdown",
   "metadata": {},
   "source": [
    "### DataFrame methods\n",
    "This section gives a quick overview of some of the `pandas.DataFrame` methods such as `head`, `describe`, `concat`, `groupby`,`rename`, `filter`, `drop` and `isna`. To import data from CSV or MS Excel files, we can make use of `read_csv` and `read_excel`, respectively."
   ]
  },
  {
   "cell_type": "code",
   "execution_count": 10,
   "metadata": {},
   "outputs": [
    {
     "name": "stdout",
     "output_type": "stream",
     "text": [
      "  Position       Team  GF  GA Points\n",
      "0        1        PSV  80  30     79\n",
      "1        2       Ajax  75  25     78\n",
      "2        3  Feyenoord  75  40     70\n",
      "3        4     Twente  70  60     66\n"
     ]
    }
   ],
   "source": [
    "# print the first few rows in your dataset with head()\n",
    "print(third_dataframe.head()) # In this case, it is not very useful because we don't have thousands of rows"
   ]
  },
  {
   "cell_type": "code",
   "execution_count": 11,
   "metadata": {},
   "outputs": [
    {
     "name": "stdout",
     "output_type": "stream",
     "text": [
      "       Position    Team  GF  GA Points\n",
      "count         4       4   4   4      4\n",
      "unique        4       4   3   4      4\n",
      "top           3  Twente  75  40     66\n",
      "freq          1       1   2   1      1\n"
     ]
    }
   ],
   "source": [
    "# get the summary statistics of the DataFrame with describe()\n",
    "print(third_dataframe.describe())"
   ]
  },
  {
   "cell_type": "code",
   "execution_count": 12,
   "metadata": {},
   "outputs": [
    {
     "name": "stdout",
     "output_type": "stream",
     "text": [
      "  Position  Team  GF  GA Points\n",
      "0        1   PSV  80  30     79\n",
      "1        2  Ajax  75  25     78\n",
      "\n",
      "\n",
      "  Position       Team  GF  GA Points\n",
      "2        3  Feyenoord  75  40     70\n",
      "3        4     Twente  70  60     66\n",
      "\n",
      "\n",
      "  Position       Team  GF  GA Points\n",
      "0        1        PSV  80  30     79\n",
      "1        2       Ajax  75  25     78\n",
      "2        3  Feyenoord  75  40     70\n",
      "3        4     Twente  70  60     66\n"
     ]
    }
   ],
   "source": [
    "# concatenate (join) DataFrame objects using concat()\n",
    "\n",
    "# first, we will split the above DataFrame in two different ones\n",
    "df_a = third_dataframe.loc[[0,1],:]\n",
    "df_b = third_dataframe.loc[[2,3],:]\n",
    "\n",
    "print(df_a)\n",
    "print('\\n')\n",
    "\n",
    "print(df_b)\n",
    "print('\\n')\n",
    "\n",
    "# now, we concatenate both datasets\n",
    "df = pd.concat([df_a, df_b])\n",
    "\n",
    "print(df)"
   ]
  },
  {
   "cell_type": "code",
   "execution_count": 13,
   "metadata": {},
   "outputs": [
    {
     "name": "stdout",
     "output_type": "stream",
     "text": [
      "  Position       Team  GF  GA Points\n",
      "1        2       Ajax  75  25     78\n",
      "2        3  Feyenoord  75  40     70\n"
     ]
    }
   ],
   "source": [
    "# group the data by certain variable via groupby()\n",
    "# here, we have grouped the data by goals for, which in this case is 75\n",
    "\n",
    "group = df.groupby('GF')\n",
    "\n",
    "print(group.get_group('75'))"
   ]
  },
  {
   "cell_type": "code",
   "execution_count": 14,
   "metadata": {},
   "outputs": [
    {
     "name": "stdout",
     "output_type": "stream",
     "text": [
      "  Pos       Club  GF  GA Points\n",
      "0   1        PSV  80  30     79\n",
      "1   2       Ajax  75  25     78\n",
      "2   3  Feyenoord  75  40     70\n",
      "3   4     Twente  70  60     66\n"
     ]
    }
   ],
   "source": [
    "# rename() helps you change the column or index names\n",
    "print(df.rename(columns={'Position':'Pos','Team':'Club'}))"
   ]
  },
  {
   "cell_type": "code",
   "execution_count": 15,
   "metadata": {},
   "outputs": [
    {
     "name": "stdout",
     "output_type": "stream",
     "text": [
      "        Team Points\n",
      "0        PSV     79\n",
      "1       Ajax     78\n",
      "2  Feyenoord     70\n",
      "3     Twente     66\n"
     ]
    }
   ],
   "source": [
    "# build a subset of rows or columns of your dataset according to labels via filter()\n",
    "# here, items refer to the variable names: 'Team' and 'Points'; to select columns, we specify axis=1\n",
    "print(df.filter(items=['Team', 'Points'], axis=1))"
   ]
  },
  {
   "cell_type": "code",
   "execution_count": 16,
   "metadata": {},
   "outputs": [
    {
     "name": "stdout",
     "output_type": "stream",
     "text": [
      "  Position       Team Points\n",
      "0        1        PSV     79\n",
      "1        2       Ajax     78\n",
      "2        3  Feyenoord     70\n",
      "3        4     Twente     66\n"
     ]
    }
   ],
   "source": [
    "# dropping some labels\n",
    "print(df.drop(columns=['GF', 'GA']))"
   ]
  },
  {
   "cell_type": "code",
   "execution_count": 17,
   "metadata": {},
   "outputs": [
    {
     "name": "stdout",
     "output_type": "stream",
     "text": [
      "   Position   Team     GF     GA  Points\n",
      "0     False  False  False  False   False\n",
      "1     False  False  False  False   False\n",
      "2     False  False  False  False   False\n",
      "3     False  False  False  False   False\n",
      "\n",
      "\n",
      "  Position       Team  GF  GA Points     W\n",
      "0        1        PSV  80  30     79   NaN\n",
      "1        2       Ajax  75  25     78  25.0\n",
      "2        3  Feyenoord  75  40     70  24.0\n",
      "3        4     Twente  70  60     66  19.0\n",
      "\n",
      "\n",
      "   Position   Team     GF     GA  Points      W\n",
      "0     False  False  False  False   False   True\n",
      "1     False  False  False  False   False  False\n",
      "2     False  False  False  False   False  False\n",
      "3     False  False  False  False   False  False\n"
     ]
    }
   ],
   "source": [
    "# search for NA (not available) entries in the DataFrame\n",
    "print(df.isna()) # No NA values\n",
    "print('\\n')\n",
    "\n",
    "# create a pandas Series with a NA value\n",
    "# the Series as W (winnin matches)\n",
    "tmp = pd.Series([np.NaN, 25, 24, 19],  name=\"W\")\n",
    "\n",
    "# concatenate the Series with the DataFrame\n",
    "df = pd.concat([df,tmp], axis = 1)\n",
    "print(df)\n",
    "print('\\n')\n",
    "\n",
    "# again, check for NA entries\n",
    "print(df.isna())"
   ]
  },
  {
   "cell_type": "markdown",
   "metadata": {},
   "source": [
    "## Dataset\n",
    "\n",
    "For this week exercises we will use a dataset from the Genomics of Drug Sensitivity in Cancer (GDSC) project (https://www.cancerrxgene.org/). In this study (['Iorio et al., Cell, 2016']()), 265 compounds were tested on 1001 cancer cell lines for which different types of -omics data (RNA expression, DNA methylation, Copy Number Alteration, DNA sequencing) are available. This is a valuable resource to look for biomarkers of drugs sensitivity in order to try to understand why cancer patients responds very differently to cancer drugs and find ways to assign the optimal treatment to each patient.\n",
    "\n",
    "For this exercise we will use a subset of the data, focusing the response to the drug YM155 (Sepantronium bromide) on four cancer types, for a total of 148 cancer cell lines.\n",
    "\n",
    "| ID          | Cancer type                      |\n",
    "|-------------|----------------------------------|\n",
    "|   COAD/READ | Colorectal adenocarcinoma        |\n",
    "|   NB        | Neuroblastoma                    |\n",
    "|   KIRC      | Kidney renal clear cell carcinoma|\n",
    "|   BRCA      | Breast carcinoma                 |\n",
    "\n",
    "We will use the RNA expression data (RMA normalised). Only genes with high variability across cell lines (variance > 5, resulting in 238 genes) have been kept.\n",
    "\n",
    "Drugs have been tested at different concentration, measuring each time the viability of the cells. Drug sensitivity is measured using the natural log of the fitted IC50 metric, which is defined as the half maximal inhibitory concentration. A lower IC50 corresponds to a more sensitive cell line because a lower amount of drug is sufficient to have a strong response, while a higher IC50 corresponds to a more resistant cell line because more drug is needed for killing the cells.\n",
    "\n",
    "Based on the IC50 metric, cells can be classified as sensitive or resistant. The classification is done by computing the $z$-score across all cell lines in the GDSC for each drug, and considering as sensitive the ones with $z$-score < 0 and resistant the ones with $z$-score > 0.\n",
    "\n",
    "The dataset is originally provided as 3 files ([original source](https://www.sciencedirect.com/science/article/pii/S0092867416307462?via%3Dihub)) :\n",
    "\n",
    "`GDSC_RNA_expression.csv`: gene expression matrix with the cell lines in the rows (148) and the genes in the columns (238).\n",
    "\n",
    "`GDSC_drug_response.csv`: vector with the cell lines response to the drug YM155 in terms of log(IC50) and as classification in sensitive or resistant.\n",
    "\n",
    "`GDSC_metadata.csv`: metadata for the 148 cell lines including name, COSMIC ID and tumor type (using the classification from ['The Cancer Genome Atlas TCGA'](https://www.cancer.gov/about-nci/organization/ccg/research/structural-genomics/tcga))\n",
    "\n",
    "For convenience, we provide the data already curated.\n",
    "\n",
    "`RNA_expression_curated.csv`: [148 cell lines , 238 genes]\n",
    "\n",
    "`drug_response_curated.csv`: [148 cell lines , YM155 drug]\n",
    "\n",
    "The curated data cam be read as `pandas` `DataFrame`s in the following way:"
   ]
  },
  {
   "cell_type": "code",
   "execution_count": 18,
   "metadata": {},
   "outputs": [],
   "source": [
    "import pandas as pd\n",
    "\n",
    "gene_expression = pd.read_csv(\"./data/RNA_expression_curated.csv\", sep=',', header=0, index_col=0)\n",
    "drug_response = pd.read_csv(\"./data/drug_response_curated.csv\", sep=',', header=0, index_col=0)"
   ]
  },
  {
   "cell_type": "markdown",
   "metadata": {},
   "source": [
    "You can use the `DataFrame`s directly as inputs to the the `sklearn` models. The advantage over using `numpy` arrays is that the variable are annotated, i.e. each input and output has a name."
   ]
  },
  {
   "cell_type": "code",
   "execution_count": 19,
   "metadata": {},
   "outputs": [
    {
     "data": {
      "text/html": [
       "<div>\n",
       "<style scoped>\n",
       "    .dataframe tbody tr th:only-of-type {\n",
       "        vertical-align: middle;\n",
       "    }\n",
       "\n",
       "    .dataframe tbody tr th {\n",
       "        vertical-align: top;\n",
       "    }\n",
       "\n",
       "    .dataframe thead th {\n",
       "        text-align: right;\n",
       "    }\n",
       "</style>\n",
       "<table border=\"1\" class=\"dataframe\">\n",
       "  <thead>\n",
       "    <tr style=\"text-align: right;\">\n",
       "      <th></th>\n",
       "      <th>YM155</th>\n",
       "    </tr>\n",
       "  </thead>\n",
       "  <tbody>\n",
       "    <tr>\n",
       "      <th>949176</th>\n",
       "      <td>0.42</td>\n",
       "    </tr>\n",
       "    <tr>\n",
       "      <th>749714</th>\n",
       "      <td>-4.31</td>\n",
       "    </tr>\n",
       "    <tr>\n",
       "      <th>749709</th>\n",
       "      <td>-4.80</td>\n",
       "    </tr>\n",
       "    <tr>\n",
       "      <th>1660034</th>\n",
       "      <td>-0.88</td>\n",
       "    </tr>\n",
       "    <tr>\n",
       "      <th>1240123</th>\n",
       "      <td>1.82</td>\n",
       "    </tr>\n",
       "  </tbody>\n",
       "</table>\n",
       "</div>"
      ],
      "text/plain": [
       "         YM155\n",
       "949176    0.42\n",
       "749714   -4.31\n",
       "749709   -4.80\n",
       "1660034  -0.88\n",
       "1240123   1.82"
      ]
     },
     "execution_count": 19,
     "metadata": {},
     "output_type": "execute_result"
    }
   ],
   "source": [
    "drug_response.head()"
   ]
  },
  {
   "cell_type": "code",
   "execution_count": 20,
   "metadata": {},
   "outputs": [
    {
     "data": {
      "text/html": [
       "<div>\n",
       "<style scoped>\n",
       "    .dataframe tbody tr th:only-of-type {\n",
       "        vertical-align: middle;\n",
       "    }\n",
       "\n",
       "    .dataframe tbody tr th {\n",
       "        vertical-align: top;\n",
       "    }\n",
       "\n",
       "    .dataframe thead th {\n",
       "        text-align: right;\n",
       "    }\n",
       "</style>\n",
       "<table border=\"1\" class=\"dataframe\">\n",
       "  <thead>\n",
       "    <tr style=\"text-align: right;\">\n",
       "      <th></th>\n",
       "      <th>TFPI</th>\n",
       "      <th>TFAP2B</th>\n",
       "      <th>MGST1</th>\n",
       "      <th>PRSS3</th>\n",
       "      <th>ISL1</th>\n",
       "      <th>SNAI2</th>\n",
       "      <th>SERPINB1</th>\n",
       "      <th>VIM</th>\n",
       "      <th>CD44</th>\n",
       "      <th>VCAN</th>\n",
       "      <th>...</th>\n",
       "      <th>PSMB8</th>\n",
       "      <th>HSPA1A</th>\n",
       "      <th>SERPINB5</th>\n",
       "      <th>MLLT11</th>\n",
       "      <th>AKR1B10P1</th>\n",
       "      <th>UCA1</th>\n",
       "      <th>MIR205HG</th>\n",
       "      <th>PHGR1</th>\n",
       "      <th>HLA-B</th>\n",
       "      <th>SEPP1</th>\n",
       "    </tr>\n",
       "  </thead>\n",
       "  <tbody>\n",
       "    <tr>\n",
       "      <th>949176</th>\n",
       "      <td>7.166555</td>\n",
       "      <td>2.795512</td>\n",
       "      <td>7.917741</td>\n",
       "      <td>9.466787</td>\n",
       "      <td>8.436305</td>\n",
       "      <td>9.500610</td>\n",
       "      <td>7.380575</td>\n",
       "      <td>13.073855</td>\n",
       "      <td>3.374265</td>\n",
       "      <td>9.332068</td>\n",
       "      <td>...</td>\n",
       "      <td>4.338325</td>\n",
       "      <td>3.193308</td>\n",
       "      <td>3.231940</td>\n",
       "      <td>10.828382</td>\n",
       "      <td>2.977182</td>\n",
       "      <td>3.694196</td>\n",
       "      <td>3.056695</td>\n",
       "      <td>2.714666</td>\n",
       "      <td>5.156024</td>\n",
       "      <td>9.426053</td>\n",
       "    </tr>\n",
       "    <tr>\n",
       "      <th>749714</th>\n",
       "      <td>9.084584</td>\n",
       "      <td>2.693997</td>\n",
       "      <td>12.199084</td>\n",
       "      <td>2.975566</td>\n",
       "      <td>3.479229</td>\n",
       "      <td>8.489317</td>\n",
       "      <td>8.500992</td>\n",
       "      <td>5.631460</td>\n",
       "      <td>7.950032</td>\n",
       "      <td>2.845233</td>\n",
       "      <td>...</td>\n",
       "      <td>9.492377</td>\n",
       "      <td>11.628330</td>\n",
       "      <td>7.902180</td>\n",
       "      <td>3.568167</td>\n",
       "      <td>7.806236</td>\n",
       "      <td>12.332383</td>\n",
       "      <td>11.264508</td>\n",
       "      <td>3.405150</td>\n",
       "      <td>11.842518</td>\n",
       "      <td>6.269068</td>\n",
       "    </tr>\n",
       "    <tr>\n",
       "      <th>749709</th>\n",
       "      <td>7.409983</td>\n",
       "      <td>3.034927</td>\n",
       "      <td>11.597315</td>\n",
       "      <td>3.100007</td>\n",
       "      <td>2.993368</td>\n",
       "      <td>9.676350</td>\n",
       "      <td>9.491955</td>\n",
       "      <td>9.558949</td>\n",
       "      <td>8.817890</td>\n",
       "      <td>2.955041</td>\n",
       "      <td>...</td>\n",
       "      <td>9.511871</td>\n",
       "      <td>10.993441</td>\n",
       "      <td>7.528199</td>\n",
       "      <td>2.883216</td>\n",
       "      <td>10.389229</td>\n",
       "      <td>7.769475</td>\n",
       "      <td>12.675657</td>\n",
       "      <td>2.718737</td>\n",
       "      <td>11.583025</td>\n",
       "      <td>4.060529</td>\n",
       "    </tr>\n",
       "    <tr>\n",
       "      <th>1660034</th>\n",
       "      <td>3.366363</td>\n",
       "      <td>2.850566</td>\n",
       "      <td>10.101420</td>\n",
       "      <td>3.422998</td>\n",
       "      <td>4.553985</td>\n",
       "      <td>4.206307</td>\n",
       "      <td>10.670574</td>\n",
       "      <td>3.309632</td>\n",
       "      <td>7.547344</td>\n",
       "      <td>2.939078</td>\n",
       "      <td>...</td>\n",
       "      <td>8.228828</td>\n",
       "      <td>4.561736</td>\n",
       "      <td>10.573551</td>\n",
       "      <td>3.124834</td>\n",
       "      <td>5.842664</td>\n",
       "      <td>7.864870</td>\n",
       "      <td>3.235421</td>\n",
       "      <td>11.684274</td>\n",
       "      <td>11.187621</td>\n",
       "      <td>3.421234</td>\n",
       "    </tr>\n",
       "    <tr>\n",
       "      <th>1240123</th>\n",
       "      <td>3.622246</td>\n",
       "      <td>3.004234</td>\n",
       "      <td>10.139788</td>\n",
       "      <td>6.627779</td>\n",
       "      <td>3.268149</td>\n",
       "      <td>3.752552</td>\n",
       "      <td>10.565739</td>\n",
       "      <td>3.138711</td>\n",
       "      <td>4.366684</td>\n",
       "      <td>2.932474</td>\n",
       "      <td>...</td>\n",
       "      <td>8.505643</td>\n",
       "      <td>2.932354</td>\n",
       "      <td>3.448589</td>\n",
       "      <td>3.502982</td>\n",
       "      <td>4.433917</td>\n",
       "      <td>4.462764</td>\n",
       "      <td>3.240951</td>\n",
       "      <td>11.547653</td>\n",
       "      <td>10.290615</td>\n",
       "      <td>2.909176</td>\n",
       "    </tr>\n",
       "    <tr>\n",
       "      <th>...</th>\n",
       "      <td>...</td>\n",
       "      <td>...</td>\n",
       "      <td>...</td>\n",
       "      <td>...</td>\n",
       "      <td>...</td>\n",
       "      <td>...</td>\n",
       "      <td>...</td>\n",
       "      <td>...</td>\n",
       "      <td>...</td>\n",
       "      <td>...</td>\n",
       "      <td>...</td>\n",
       "      <td>...</td>\n",
       "      <td>...</td>\n",
       "      <td>...</td>\n",
       "      <td>...</td>\n",
       "      <td>...</td>\n",
       "      <td>...</td>\n",
       "      <td>...</td>\n",
       "      <td>...</td>\n",
       "      <td>...</td>\n",
       "      <td>...</td>\n",
       "    </tr>\n",
       "    <tr>\n",
       "      <th>905946</th>\n",
       "      <td>4.424679</td>\n",
       "      <td>3.115770</td>\n",
       "      <td>10.206554</td>\n",
       "      <td>3.072116</td>\n",
       "      <td>3.129721</td>\n",
       "      <td>3.723823</td>\n",
       "      <td>8.962440</td>\n",
       "      <td>3.470113</td>\n",
       "      <td>6.001979</td>\n",
       "      <td>2.878146</td>\n",
       "      <td>...</td>\n",
       "      <td>3.647049</td>\n",
       "      <td>12.153026</td>\n",
       "      <td>3.653533</td>\n",
       "      <td>3.457305</td>\n",
       "      <td>3.022961</td>\n",
       "      <td>3.285490</td>\n",
       "      <td>3.775332</td>\n",
       "      <td>2.728559</td>\n",
       "      <td>6.782047</td>\n",
       "      <td>6.605122</td>\n",
       "    </tr>\n",
       "    <tr>\n",
       "      <th>1298157</th>\n",
       "      <td>8.552384</td>\n",
       "      <td>3.049648</td>\n",
       "      <td>11.869112</td>\n",
       "      <td>6.930417</td>\n",
       "      <td>2.946272</td>\n",
       "      <td>9.182859</td>\n",
       "      <td>8.386110</td>\n",
       "      <td>7.736445</td>\n",
       "      <td>10.402853</td>\n",
       "      <td>2.906355</td>\n",
       "      <td>...</td>\n",
       "      <td>8.532879</td>\n",
       "      <td>11.669275</td>\n",
       "      <td>6.392053</td>\n",
       "      <td>8.370608</td>\n",
       "      <td>3.193331</td>\n",
       "      <td>9.638283</td>\n",
       "      <td>10.864759</td>\n",
       "      <td>2.689626</td>\n",
       "      <td>9.126861</td>\n",
       "      <td>2.773124</td>\n",
       "    </tr>\n",
       "    <tr>\n",
       "      <th>909761</th>\n",
       "      <td>3.894694</td>\n",
       "      <td>2.960201</td>\n",
       "      <td>11.474275</td>\n",
       "      <td>7.867391</td>\n",
       "      <td>3.201656</td>\n",
       "      <td>3.844690</td>\n",
       "      <td>10.899555</td>\n",
       "      <td>7.182603</td>\n",
       "      <td>8.410965</td>\n",
       "      <td>2.854415</td>\n",
       "      <td>...</td>\n",
       "      <td>9.154252</td>\n",
       "      <td>4.678164</td>\n",
       "      <td>7.556559</td>\n",
       "      <td>3.010025</td>\n",
       "      <td>5.614693</td>\n",
       "      <td>7.277744</td>\n",
       "      <td>2.914074</td>\n",
       "      <td>9.579208</td>\n",
       "      <td>12.159292</td>\n",
       "      <td>3.740398</td>\n",
       "    </tr>\n",
       "    <tr>\n",
       "      <th>1298168</th>\n",
       "      <td>8.657182</td>\n",
       "      <td>2.856174</td>\n",
       "      <td>11.112730</td>\n",
       "      <td>3.130571</td>\n",
       "      <td>3.590499</td>\n",
       "      <td>9.744353</td>\n",
       "      <td>9.579610</td>\n",
       "      <td>13.035744</td>\n",
       "      <td>9.028769</td>\n",
       "      <td>9.714852</td>\n",
       "      <td>...</td>\n",
       "      <td>9.689355</td>\n",
       "      <td>10.518663</td>\n",
       "      <td>3.034963</td>\n",
       "      <td>9.063806</td>\n",
       "      <td>3.643355</td>\n",
       "      <td>3.250843</td>\n",
       "      <td>3.715847</td>\n",
       "      <td>2.740402</td>\n",
       "      <td>12.700984</td>\n",
       "      <td>2.606169</td>\n",
       "    </tr>\n",
       "    <tr>\n",
       "      <th>905957</th>\n",
       "      <td>10.685805</td>\n",
       "      <td>3.079663</td>\n",
       "      <td>10.596681</td>\n",
       "      <td>2.966899</td>\n",
       "      <td>3.059001</td>\n",
       "      <td>10.988503</td>\n",
       "      <td>8.660865</td>\n",
       "      <td>13.165290</td>\n",
       "      <td>9.656734</td>\n",
       "      <td>10.066935</td>\n",
       "      <td>...</td>\n",
       "      <td>5.778045</td>\n",
       "      <td>11.145396</td>\n",
       "      <td>3.151173</td>\n",
       "      <td>6.523492</td>\n",
       "      <td>3.410762</td>\n",
       "      <td>3.403127</td>\n",
       "      <td>2.910378</td>\n",
       "      <td>2.738541</td>\n",
       "      <td>10.700984</td>\n",
       "      <td>2.814274</td>\n",
       "    </tr>\n",
       "  </tbody>\n",
       "</table>\n",
       "<p>148 rows × 238 columns</p>\n",
       "</div>"
      ],
      "text/plain": [
       "              TFPI    TFAP2B      MGST1     PRSS3      ISL1      SNAI2  \\\n",
       "949176    7.166555  2.795512   7.917741  9.466787  8.436305   9.500610   \n",
       "749714    9.084584  2.693997  12.199084  2.975566  3.479229   8.489317   \n",
       "749709    7.409983  3.034927  11.597315  3.100007  2.993368   9.676350   \n",
       "1660034   3.366363  2.850566  10.101420  3.422998  4.553985   4.206307   \n",
       "1240123   3.622246  3.004234  10.139788  6.627779  3.268149   3.752552   \n",
       "...            ...       ...        ...       ...       ...        ...   \n",
       "905946    4.424679  3.115770  10.206554  3.072116  3.129721   3.723823   \n",
       "1298157   8.552384  3.049648  11.869112  6.930417  2.946272   9.182859   \n",
       "909761    3.894694  2.960201  11.474275  7.867391  3.201656   3.844690   \n",
       "1298168   8.657182  2.856174  11.112730  3.130571  3.590499   9.744353   \n",
       "905957   10.685805  3.079663  10.596681  2.966899  3.059001  10.988503   \n",
       "\n",
       "          SERPINB1        VIM       CD44       VCAN  ...     PSMB8     HSPA1A  \\\n",
       "949176    7.380575  13.073855   3.374265   9.332068  ...  4.338325   3.193308   \n",
       "749714    8.500992   5.631460   7.950032   2.845233  ...  9.492377  11.628330   \n",
       "749709    9.491955   9.558949   8.817890   2.955041  ...  9.511871  10.993441   \n",
       "1660034  10.670574   3.309632   7.547344   2.939078  ...  8.228828   4.561736   \n",
       "1240123  10.565739   3.138711   4.366684   2.932474  ...  8.505643   2.932354   \n",
       "...            ...        ...        ...        ...  ...       ...        ...   \n",
       "905946    8.962440   3.470113   6.001979   2.878146  ...  3.647049  12.153026   \n",
       "1298157   8.386110   7.736445  10.402853   2.906355  ...  8.532879  11.669275   \n",
       "909761   10.899555   7.182603   8.410965   2.854415  ...  9.154252   4.678164   \n",
       "1298168   9.579610  13.035744   9.028769   9.714852  ...  9.689355  10.518663   \n",
       "905957    8.660865  13.165290   9.656734  10.066935  ...  5.778045  11.145396   \n",
       "\n",
       "          SERPINB5     MLLT11  AKR1B10P1       UCA1   MIR205HG      PHGR1  \\\n",
       "949176    3.231940  10.828382   2.977182   3.694196   3.056695   2.714666   \n",
       "749714    7.902180   3.568167   7.806236  12.332383  11.264508   3.405150   \n",
       "749709    7.528199   2.883216  10.389229   7.769475  12.675657   2.718737   \n",
       "1660034  10.573551   3.124834   5.842664   7.864870   3.235421  11.684274   \n",
       "1240123   3.448589   3.502982   4.433917   4.462764   3.240951  11.547653   \n",
       "...            ...        ...        ...        ...        ...        ...   \n",
       "905946    3.653533   3.457305   3.022961   3.285490   3.775332   2.728559   \n",
       "1298157   6.392053   8.370608   3.193331   9.638283  10.864759   2.689626   \n",
       "909761    7.556559   3.010025   5.614693   7.277744   2.914074   9.579208   \n",
       "1298168   3.034963   9.063806   3.643355   3.250843   3.715847   2.740402   \n",
       "905957    3.151173   6.523492   3.410762   3.403127   2.910378   2.738541   \n",
       "\n",
       "             HLA-B     SEPP1  \n",
       "949176    5.156024  9.426053  \n",
       "749714   11.842518  6.269068  \n",
       "749709   11.583025  4.060529  \n",
       "1660034  11.187621  3.421234  \n",
       "1240123  10.290615  2.909176  \n",
       "...            ...       ...  \n",
       "905946    6.782047  6.605122  \n",
       "1298157   9.126861  2.773124  \n",
       "909761   12.159292  3.740398  \n",
       "1298168  12.700984  2.606169  \n",
       "905957   10.700984  2.814274  \n",
       "\n",
       "[148 rows x 238 columns]"
      ]
     },
     "execution_count": 20,
     "metadata": {},
     "output_type": "execute_result"
    }
   ],
   "source": [
    "gene_expression"
   ]
  },
  {
   "cell_type": "markdown",
   "metadata": {},
   "source": [
    "## Tools\n",
    "The `scikit-learn` library provides the required tools for linear regression/classification and shrinkage, as well as for logistic regression."
   ]
  },
  {
   "cell_type": "code",
   "execution_count": 21,
   "metadata": {},
   "outputs": [],
   "source": [
    "from sklearn.linear_model import LinearRegression\n",
    "from sklearn.linear_model import Ridge\n",
    "from sklearn.linear_model import Lasso\n",
    "from sklearn.linear_model import LogisticRegression"
   ]
  },
  {
   "cell_type": "markdown",
   "metadata": {},
   "source": [
    "Note that the notation used for the hyperparameters in the `scikit-learn` library is different from the one used in the lecture. More specifically, in the lecture $\\alpha$ is the tunable parameter to select the compromise between Ridge and Lasso. Whereas, `scikit-learn` library refers to `alpha` as the tunable parameter $\\lambda$. Please check the documentation for more details."
   ]
  },
  {
   "cell_type": "markdown",
   "metadata": {},
   "source": [
    "# Exercises\n",
    "\n",
    "## Selection of the hyperparameter\n",
    "\n",
    "Implement cross-validation (using `sklearn.grid_search.GridSearchCV`) to select the `alpha` hyperparameter of `sklearn.linear_model.Lasso`. \n",
    "\n",
    "\n",
    "## Feature selection\n",
    "\n",
    "Look at the features selected using the hyperparameter which corresponds to the minimum cross-validation error.\n",
    "\n",
    "<p><font color='#770a0a'>Is the partition in training and validation sets playing a role in the selection of the hyperparameter? How will this affect the selection of the relevant features?</font></p>\n",
    "\n",
    "<p><font color='#770a0a'>Should the value of the intercept also be shrunk to zero with Lasso and Ridge regression? Motivate your answer.</font></p>\n",
    "\n",
    "\n",
    "## Bias-variance \n",
    "\n",
    "Show the effect of the regularization on the parameter estimates in terms of bias and variance. For this you can repeat the optimization 100 times using bootstrap and visualise the profile of the Lasso regression coefficient over a grid of the hyperparameter, optionally including the variability as error bars.\n",
    "\n",
    "<p><font color='#770a0a'>Based on the visual analysis of the plot, what are your observation on bias and variance in relation to model complexity? Motivate your answer.</font></p>\n",
    "\n",
    "\n",
    "## Logistic regression\n",
    "\n",
    "<p><font color='#770a0a'>Write the expression of the objective function for the penalized logistic regression with $L_1$ and $L_2$ regularisation (as in Elastic net).</font></p>"
   ]
  },
  {
   "cell_type": "markdown",
   "metadata": {},
   "source": [
    "## Selection of hyperparameter alpha of Lasso"
   ]
  },
  {
   "cell_type": "code",
   "execution_count": 22,
   "metadata": {},
   "outputs": [
    {
     "name": "stdout",
     "output_type": "stream",
     "text": [
      "Best hyperparameter alpha = 0.37562500000000004\n"
     ]
    },
    {
     "data": {
      "text/plain": [
       "Text(0, 0.5, 'Negative mean squared error')"
      ]
     },
     "execution_count": 22,
     "metadata": {},
     "output_type": "execute_result"
    },
    {
     "data": {
      "image/png": "[encoded data removed]",
      "text/plain": [
       "<Figure size 432x288 with 1 Axes>"
      ]
     },
     "metadata": {
      "needs_background": "light"
     },
     "output_type": "display_data"
    }
   ],
   "source": [
    "from sklearn.model_selection import GridSearchCV\n",
    "from sklearn.model_selection import train_test_split\n",
    "from sklearn.preprocessing import StandardScaler\n",
    "import matplotlib.pyplot as plt\n",
    "\n",
    "X = gene_expression\n",
    "y = drug_response\n",
    "\n",
    "# With Lasso and Ridge always scale --> make Pipeline\n",
    "\n",
    "X_train, X_test, y_train, y_test = train_test_split(X, y, test_size=0.33, random_state=42)\n",
    "\n",
    "sc = StandardScaler()\n",
    "X_train = sc.fit_transform(X_train)\n",
    "X_test = sc.transform (X_test)\n",
    "\n",
    "# Check boundaries alpha\n",
    "lasso_alphas = np.linspace(0.001, 1, 25)\n",
    "lasso_model = Lasso(tol=1e-2)\n",
    "parms = {'alpha': lasso_alphas}\n",
    "gscv = GridSearchCV(lasso_model, parms, cv = 10, scoring='neg_mean_squared_error', return_train_score=True)\n",
    "gscv.fit(X_train,y_train)\n",
    "\n",
    "# # Return estimated best alpha\n",
    "est_alpha = gscv.best_params_['alpha']\n",
    "\n",
    "print('Best hyperparameter alpha = ' + str(est_alpha))\n",
    "\n",
    "fig, ax = plt.subplots(1, 1)\n",
    "ax.plot(lasso_alphas, gscv.cv_results_['mean_test_score'])\n",
    "plt.title('Negative mean squared error on validation sets CV')\n",
    "plt.xlabel('Alpha')\n",
    "plt.ylabel('Negative mean squared error')\n"
   ]
  },
  {
   "cell_type": "markdown",
   "metadata": {},
   "source": [
    "## Feature selection"
   ]
  },
  {
   "cell_type": "code",
   "execution_count": 24,
   "metadata": {},
   "outputs": [
    {
     "name": "stdout",
     "output_type": "stream",
     "text": [
      "Index(['CDH17', 'ABCB1', 'PTN', 'RARRES3', 'SELENBP1', 'PLOD2', 'CDX2',\n",
      "       'MUC13', 'AKR1C3'],\n",
      "      dtype='object')\n"
     ]
    }
   ],
   "source": [
    "# First we find the values of the coefficients of the best Lasso regression model as found by grid search\n",
    "\n",
    "coefficients = gscv.best_estimator_.coef_\n",
    "\n",
    "# The absolute value of the coefficients indicates how important they are in the model / how much they contribute\n",
    "# to the predicted target value\n",
    "importance = np.abs(coefficients)\n",
    "\n",
    "# Now we check which features correspond to the coefficients with absolute value > 0\n",
    "# We use a boolean mask for this\n",
    "\n",
    "features_mask = importance > 0\n",
    "indices_important = np.where(features_mask)[0]\n",
    "important_features = X.columns[indices_important]\n",
    "\n",
    "# Hence the selected features (= features with coefficients absolute value > 0) are:\n",
    "print(important_features)"
   ]
  },
  {
   "cell_type": "code",
   "execution_count": 25,
   "metadata": {},
   "outputs": [
    {
     "data": {
      "text/plain": [
       "array([ 20,  24,  44, 104, 129, 140, 163, 192, 218], dtype=int64)"
      ]
     },
     "execution_count": 25,
     "metadata": {},
     "output_type": "execute_result"
    }
   ],
   "source": [
    "indices_important"
   ]
  },
  {
   "cell_type": "markdown",
   "metadata": {},
   "source": [
    "<p><font color='#770a0a'>Is the partition in training and validation sets playing a role in the selection of the hyperparameter? How will this affect the selection of the relevant features?</font></p>\n",
    "\n",
    "Selected features can be sensitive to the partition of the cross-validation. So it is possible that depending on the particular splits of training and validation sets we get different results for the features with most predictive value of target y. So the effect on feature selection would then be that everytime other features are selected with different partitions of the training and validation sets. However, with a cross validation of 10 folds and a sufficiently large dataset you already account for variation in training datasets that could lead to too specific choices of features. \n",
    "\n",
    "For instance, if the dataset is too small it is possible that you draw samples that yield specific coefficients as significant while they are not significant in other training sets, so less robust. To select only robust features we can use bootstrap. We repeat the feature selection proces $M$ times using everytime a different bootstrapped dataset (= sampling N samples with replacement).\n",
    "\n",
    "<p><font color='#770a0a'>Should the value of the intercept also be shrunk to zero with Lasso and Ridge regression? Motivate your answer.</font></p>\n",
    "\n",
    "The intercept itself does not represent a feature that we are interested in to predict the target. Because the intercept only creates parallel shifts of the regression line to correct for differences in mean of the variables. Hence, the intercept itself will not be a cause for overfitting, which is the effect we try to reduce with regularisation. For the regularisation it holds that because we already scaled / standardized the values of the features in the training dataset, the intercept is likely to be close to zero. However, it is not NECESSARY that the intercept is shrunk to zero with regularisation because it will not be the cause of overfitting (since it does not represent a specific feature). The intercept has nothing to do (directly) with the features and thus a too specific fit of the model to the training data (=overfitting). Therefore, there is no penalty associated with the intercept ($\\beta_0$) in Lasso and Ridge regression, which can also be deducted from the summation that starts at the index of 1 instead of 0. \n"
   ]
  },
  {
   "cell_type": "markdown",
   "metadata": {},
   "source": [
    "## Bias variance"
   ]
  },
  {
   "cell_type": "code",
   "execution_count": 30,
   "metadata": {},
   "outputs": [
    {
     "name": "stderr",
     "output_type": "stream",
     "text": [
      "C:\\Users\\20192024\\AppData\\Local\\Continuum\\anaconda3\\lib\\site-packages\\sklearn\\linear_model\\_coordinate_descent.py:476: ConvergenceWarning: Objective did not converge. You might want to increase the number of iterations. Duality gap: 6.212016770889948, tolerance: 0.06901344727272729\n",
      "  positive)\n",
      "C:\\Users\\20192024\\AppData\\Local\\Continuum\\anaconda3\\lib\\site-packages\\sklearn\\linear_model\\_coordinate_descent.py:476: ConvergenceWarning: Objective did not converge. You might want to increase the number of iterations. Duality gap: 2.5662390376100035, tolerance: 0.06901344727272729\n",
      "  positive)\n",
      "C:\\Users\\20192024\\AppData\\Local\\Continuum\\anaconda3\\lib\\site-packages\\sklearn\\linear_model\\_coordinate_descent.py:476: ConvergenceWarning: Objective did not converge. You might want to increase the number of iterations. Duality gap: 0.39506605239029113, tolerance: 0.06901344727272729\n",
      "  positive)\n"
     ]
    },
    {
     "data": {
      "image/png": "[encoded data removed]",
      "text/plain": [
       "<Figure size 432x288 with 1 Axes>"
      ]
     },
     "metadata": {
      "needs_background": "light"
     },
     "output_type": "display_data"
    }
   ],
   "source": [
    "alphas = np.linspace(0.01,1,50)\n",
    "\n",
    "# Max iter has something to do with how many times it optimizes, not how often it does the \n",
    "\n",
    "# Hope that the optimization algorithm already converges before 200 iterations but we specify it as a boundary here\n",
    "\n",
    "lasso = Lasso(max_iter=200)\n",
    "coefs = []\n",
    "\n",
    "for a in alphas:\n",
    "    lasso.set_params(alpha=a)\n",
    "    lasso.fit(X_train, y_train)\n",
    "    coefs.append(lasso.coef_)\n",
    "\n",
    "ax = plt.gca()\n",
    "\n",
    "ax.plot(alphas, coefs)\n",
    "plt.xlabel('alpha')\n",
    "plt.ylabel('Standardized Coefficients')\n",
    "#legend = gene_expression.columns\n",
    "#plt.legend(legend)\n",
    "plt.xlim([0, 1])\n",
    "plt.title('Lasso coefficients as a function of alpha');\n",
    "\n",
    "# For low values of alpha, coefficients will have a large range (high variance)\n",
    "# The higher alpha, the lower the variance, the higher the bias\n",
    "# Because the higher alpha, the stronger the coefficients are penalized and will be shrunken to a\n",
    "# small value, eventually to zero so the bias decreases.\n",
    "# Everything to zero, no overfitting anymore but we have a high bias (value can be 2 but we forced it to 0)\n",
    "# And we do not know for which features this is justified and for which features not\n",
    "# In abstract we know the trade-off but we do not know it for the parameters. \n",
    "\n",
    "# Error bar = 2x std\n",
    "\n",
    "bootstrapped_stats = pd.DataFrame()\n",
    "\n",
    "# Nest the for loop the other way around\n",
    "\n",
    "bootstrap_range = 100\n",
    "\n",
    "mean_coefs = []\n",
    "std_coefs = []\n",
    "alpha_range = np.arange(0.1, 1.0, 0.2)\n",
    "\n",
    "for hyp_param in alpha_range:\n",
    "    for i in range(bootstrap_range):\n",
    "        lasso_model = Lasso(alpha = hyp_param, tol=1e-2)\n",
    "        lasso_model.fit(X_train,y_train)\n",
    "        #coef_list.append(lasso_model.coef_)\n",
    "\n",
    "        \n",
    "        #for coef in range(len(lasso_model.coef_.ravel())):\n",
    "#         for coef in range(10):\n",
    "#             col_name = 'beta_' + str(coef+1)\n",
    "#             bootstrapped_stats_i[col_name] = lasso_model.coef_.ravel()[coef]\n",
    "        \n",
    "        intercept = lasso_model.intercept_\n",
    "        beta_20 = lasso_model.coef_.ravel()[20]\n",
    "        beta_24 = lasso_model.coef_.ravel()[24]\n",
    "        beta_44 = lasso_model.coef_.ravel()[44]\n",
    "        beta_104 = lasso_model.coef_.ravel()[104]\n",
    "\n",
    "        bootstrapped_stats_i = pd.DataFrame(data=dict(\n",
    "        intercept=intercept,\n",
    "        beta_20=beta_20,\n",
    "        beta_24=beta_24,\n",
    "        beta_44=beta_44,\n",
    "        beta_104=beta_104))\n",
    "\n",
    "        \n",
    "\n",
    "        bootstrapped_stats = pd.concat(objs=[bootstrapped_stats,\n",
    "                                         bootstrapped_stats_i])\n",
    "\n",
    "        if i == (bootstrap_range-1):\n",
    "            mean_coefs.append([bootstrapped_stats.mean()])\n",
    "            std_coefs.append([bootstrapped_stats.std()])\n"
   ]
  },
  {
   "cell_type": "code",
   "execution_count": 72,
   "metadata": {},
   "outputs": [
    {
     "data": {
      "text/plain": [
       "Text(0.5, 0, 'Alpha values')"
      ]
     },
     "execution_count": 72,
     "metadata": {},
     "output_type": "execute_result"
    },
    {
     "data": {
      "image/png": "[encoded data removed]",
      "text/plain": [
       "<Figure size 432x288 with 1 Axes>"
      ]
     },
     "metadata": {
      "needs_background": "light"
     },
     "output_type": "display_data"
    }
   ],
   "source": [
    "intercept = []\n",
    "beta_20 = []\n",
    "beta_24 = []\n",
    "beta_44 = []\n",
    "beta_104 = []\n",
    "\n",
    "intercept_std = []\n",
    "beta_20_std = []\n",
    "beta_24_std = []\n",
    "beta_44_std = []\n",
    "beta_104_std = []\n",
    "\n",
    "for i in range(len(mean_coefs)):\n",
    "    intercept.append(abs(mean_coefs[i][0][0]))\n",
    "    beta_20.append(abs(mean_coefs[i][0][1]))\n",
    "    beta_24.append(abs(mean_coefs[i][0][2]))\n",
    "    beta_44.append(abs(mean_coefs[i][0][3]))\n",
    "    beta_104.append(abs(mean_coefs[i][0][4]))\n",
    "    \n",
    "    intercept_std.append(std_coefs[i][0][0])\n",
    "    beta_20_std.append(std_coefs[i][0][1])\n",
    "    beta_24_std.append(std_coefs[i][0][2])\n",
    "    beta_44_std.append(std_coefs[i][0][3])\n",
    "    beta_104_std.append(std_coefs[i][0][4])\n",
    "\n",
    "\n",
    "final = [intercept, beta_20, beta_24, beta_44, beta_104]\n",
    "\n",
    "# 1x std as error bar (68% CI)\n",
    "final_std = [intercept_std, beta_20_std, beta_24_std, beta_44_std, beta_104_std]\n",
    "\n",
    "plt.errorbar(alpha_range, final[4], yerr = final_std[4], capsize=3.0)\n",
    "#plt.legend(['intercept', 'beta_20', 'beta_24', 'beta_44', 'beta_104'])\n",
    "plt.title('Mean coefficient values after bootstrapping (N=100) for different alphas')\n",
    "plt.ylabel('Absolute value of mean coefficients')\n",
    "plt.xlabel('Alpha values')\n",
    "    "
   ]
  },
  {
   "cell_type": "markdown",
   "metadata": {},
   "source": [
    "For higher alpha values, and thus a stronger penalty, the coefficient values will be smaller and eventually shrunk to zero. This is also visible from the plots. Moreover, since the alpha is higher the \n",
    "\n",
    "The variance decreases (as can be seen by the error bars getting smaller). Overfitting means that the coefficients are very dependent on the samples we have chosen. So with different samples we get very different coefficients. Lasso tries to counter that effect by making it more 'difficult' for coefficients to be different from zero.\n",
    "\n",
    "Therefore we expect, as we can see, that the variance decreases as alpha increases."
   ]
  },
  {
   "cell_type": "code",
   "execution_count": 65,
   "metadata": {},
   "outputs": [
    {
     "data": {
      "text/plain": [
       "5"
      ]
     },
     "execution_count": 65,
     "metadata": {},
     "output_type": "execute_result"
    }
   ],
   "source": [
    "len(std_coefs)"
   ]
  },
  {
   "cell_type": "code",
   "execution_count": 60,
   "metadata": {},
   "outputs": [
    {
     "data": {
      "text/plain": [
       "Text(0.5, 0, 'Alpha values')"
      ]
     },
     "execution_count": 60,
     "metadata": {},
     "output_type": "execute_result"
    },
    {
     "data": {
      "image/png": "[encoded data removed]",
      "text/plain": [
       "<Figure size 432x288 with 1 Axes>"
      ]
     },
     "metadata": {
      "needs_background": "light"
     },
     "output_type": "display_data"
    }
   ],
   "source": [
    "intercept = []\n",
    "beta_20 = []\n",
    "beta_24 = []\n",
    "beta_44 = []\n",
    "beta_104 = []\n",
    "\n",
    "for i in range(len(std_coefs)):\n",
    "    intercept.append(abs(std_coefs[i][0][0]))\n",
    "    beta_20.append(abs(std_coefs[i][0][1]))\n",
    "    beta_24.append(abs(std_coefs[i][0][2]))\n",
    "    beta_44.append(abs(std_coefs[i][0][3]))\n",
    "    beta_104.append(abs(std_coefs[i][0][4]))\n",
    "\n",
    "final = [intercept, beta_20, beta_24, beta_44, beta_104]\n",
    "\n",
    "plt.plot(alpha_range, final)\n",
    "plt.legend(['intercept', 'beta_20', 'beta_24', 'beta_44', 'beta_104'])\n",
    "plt.title('Standard deviations of coefficient values after bootstrapping (N=100) for different alphas')\n",
    "plt.ylabel('Absolute value of std of coefficients')\n",
    "plt.xlabel('Alpha values')\n"
   ]
  },
  {
   "cell_type": "markdown",
   "metadata": {},
   "source": [
    "## Logistic regression"
   ]
  },
  {
   "cell_type": "markdown",
   "metadata": {},
   "source": [
    "Elasticnet with RSS = negative log likelihood"
   ]
  },
  {
   "cell_type": "markdown",
   "metadata": {},
   "source": [
    "Elastic Net:\n",
    "\n",
    "$\\hat{\\beta}^{elasticnet} = \\underset{\\beta}{\\mathrm{argmin}} \\{RSS + \\lambda \\sum_{j=1}^{p} (\\alpha\\beta^2_j+(1-\\alpha)|\\beta_j|)\t\\}$\n",
    "\n",
    "However, for logistic regression we do not minimize the RSS, but we maximize the log likelihood. We want to maximize a penalized version of the log-likelihood involving both L1 and L2 regularization. Filling this in for the RSS gives the following expression for Elastic Net:\n",
    "\n",
    "$\\hat{\\beta}^{elasticnet} = \\underset{\\beta_0, \\beta}{\\mathrm{max}} \\{\\sum_{i=1}^{N} [y_i(\\beta_0 + \\beta^Tx_i)-\\log(1+ e^{\\beta_0+\\beta^Tx_i)}] - \\lambda \\sum_{j=1}^{p} (\\alpha\\beta^2_j+(1-\\alpha)|\\beta_j|)\t\\}$\n",
    "\n",
    "$\\alpha$ is the tunable parameter\n",
    "\n",
    "Ridge regression for $\\alpha = 1$\n",
    "\n",
    "Lasso regression for $\\alpha = 0$\n",
    "\n"
   ]
  },
  {
   "cell_type": "code",
   "execution_count": null,
   "metadata": {},
   "outputs": [],
   "source": []
  }
 ],
 "metadata": {
  "kernelspec": {
   "display_name": "Python 3",
   "language": "python",
   "name": "python3"
  },
  "language_info": {
   "codemirror_mode": {
    "name": "ipython",
    "version": 3
   },
   "file_extension": ".py",
   "mimetype": "text/x-python",
   "name": "python",
   "nbconvert_exporter": "python",
   "pygments_lexer": "ipython3",
   "version": "3.7.3"
  }
 },
 "nbformat": 4,
 "nbformat_minor": 2
}
