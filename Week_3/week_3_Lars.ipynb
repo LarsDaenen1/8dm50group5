{
 "cells": [
  {
   "cell_type": "markdown",
   "metadata": {},
   "source": [
    "# Preliminaries\n",
    "\n",
    "The `pandas` library allows the user several data structures for different data manipulation tasks:\n",
    "1. Data storage through its `Series` and `DataFrame` data structures.\n",
    "2. Data filtering using multiple methods from the package.\n",
    "3. Reading data from many different file formats such as `csv`, `txt`, `xlsx`, ...\n",
    "\n",
    "Below we provide a brief overview of the `pandas` functionalities needed for these exercises. The complete documentation can be found on the [`pandas` website](https://pandas.pydata.org/).\n",
    "\n",
    "## Pandas data structures\n",
    "\n",
    "### Series\n",
    "The Pandas Series data structure is similar to a one-dimensional array. It can store any type of data. The values are mutable but the size not.\n",
    "\n",
    "To create `Series`, we call the `pd.Series()` method and pass an array. A `Series` may also be created from a numpy array."
   ]
  },
  {
   "cell_type": "code",
   "execution_count": 1,
   "metadata": {},
   "outputs": [
    {
     "name": "stdout",
     "output_type": "stream",
     "text": [
      "0       1\n",
      "1      10\n",
      "2     100\n",
      "3    1000\n",
      "dtype: int64\n",
      "\n",
      "\n",
      "0          PSV\n",
      "1         Ajax\n",
      "2    Feyenoord\n",
      "3       Twente\n",
      "dtype: object\n"
     ]
    }
   ],
   "source": [
    "import pandas as pd\n",
    "import numpy as np\n",
    "\n",
    "first_series = pd.Series([1,10,100,1000])\n",
    "\n",
    "print(first_series)\n",
    "\n",
    "teams = np.array(['PSV','Ajax','Feyenoord','Twente'])\n",
    "second_series = pd.Series(teams)\n",
    "\n",
    "print('\\n')\n",
    "print(second_series)"
   ]
  },
  {
   "cell_type": "markdown",
   "metadata": {},
   "source": [
    "### DataFrame\n",
    "One can think of a `DataFrame` as a table with rows and columns (2D structure). The columns can be of a different type (as opposed to `numpy` arrays) and the size of the `DataFrame` is mutable.\n",
    "\n",
    "To create `DataFrame`, we call the `pd.DataFrame()` method and we can create it from scratch or we can convert a numpy array or a list into a `DataFrame`."
   ]
  },
  {
   "cell_type": "code",
   "execution_count": 2,
   "metadata": {},
   "outputs": [
    {
     "name": "stdout",
     "output_type": "stream",
     "text": [
      "From scratch: \n",
      "    Position       Team  GF  GA  Points\n",
      "0         1        PSV  80  30      79\n",
      "1         2       Ajax  75  25      78\n",
      "2         3  Feyenoord  75  40      70\n",
      "3         4     Twente  70  60      66 \n",
      "\n",
      "From list: \n",
      "   Position       Team  GF  GA Points\n",
      "0        1        PSV  80  30     79\n",
      "1        2       Ajax  75  25     78\n",
      "2        3  Feyenoord  75  40     70\n",
      "3        4     Twente  70  60     66 \n",
      "\n",
      "From numpy array: \n",
      "   Position       Team  GF  GA Points\n",
      "0        1        PSV  80  30     79\n",
      "1        2       Ajax  75  25     78\n",
      "2        3  Feyenoord  75  40     70\n",
      "3        4     Twente  70  60     66 \n",
      "\n"
     ]
    }
   ],
   "source": [
    "# DataFrame from scratch\n",
    "first_dataframe = pd.DataFrame({\n",
    "    \"Position\": [1, 2, 3, 4],\n",
    "    \"Team\": ['PSV','Ajax','Feyenoord','Twente'],\n",
    "    \"GF\": [80, 75, 75, 70],\n",
    "    \"GA\": [30, 25, 40, 60],\n",
    "    \"Points\": [79, 78, 70, 66]\n",
    "})\n",
    "\n",
    "print(\"From scratch: \\n {} \\n\".format(first_dataframe))\n",
    "\n",
    "# DataFrme from a list\n",
    "data = [[1, 2, 3, 4], ['PSV','Ajax','Feyenoord','Twente'], \n",
    "        [80, 75, 75, 70], [30, 25, 40, 60], [79, 78, 70, 66]]\n",
    "columns = [\"Position\", \"Team\", \"GF\", \"GA\", \"Points\"]\n",
    "\n",
    "second_dataframe = pd.DataFrame(data, index=columns)\n",
    "\n",
    "print(\"From list: \\n {} \\n\".format(second_dataframe.T)) # the '.T' operator is explained later on\n",
    "\n",
    "# DataFrame from numpy array\n",
    "data = np.array([[1, 2, 3, 4], ['PSV','Ajax','Feyenoord','Twente'], \n",
    "                 [80, 75, 75, 70], [30, 25, 40, 60], [79, 78, 70, 66]])\n",
    "columns = [\"Position\", \"Team\", \"GF\", \"GA\", \"Points\"]\n",
    "\n",
    "third_dataframe = pd.DataFrame(data.T, columns=columns)\n",
    "\n",
    "print(\"From numpy array: \\n {} \\n\".format(third_dataframe))"
   ]
  },
  {
   "cell_type": "markdown",
   "metadata": {},
   "source": [
    "### DataFrame attributes\n",
    "This section gives a quick overview of some of the `pandas.DataFrame` attributes such as `T`, `index`, `columns`, `iloc`, `loc`, `shape` and `values`."
   ]
  },
  {
   "cell_type": "code",
   "execution_count": 3,
   "metadata": {},
   "outputs": [
    {
     "name": "stdout",
     "output_type": "stream",
     "text": [
      "            0     1          2       3\n",
      "Position    1     2          3       4\n",
      "Team      PSV  Ajax  Feyenoord  Twente\n",
      "GF         80    75         75      70\n",
      "GA         30    25         40      60\n",
      "Points     79    78         70      66\n"
     ]
    }
   ],
   "source": [
    "# transpose the index and columns\n",
    "print(third_dataframe.T)"
   ]
  },
  {
   "cell_type": "code",
   "execution_count": 4,
   "metadata": {},
   "outputs": [
    {
     "name": "stdout",
     "output_type": "stream",
     "text": [
      "RangeIndex(start=0, stop=4, step=1)\n"
     ]
    }
   ],
   "source": [
    "# index makes reference to the row labels\n",
    "print(third_dataframe.index)"
   ]
  },
  {
   "cell_type": "code",
   "execution_count": 5,
   "metadata": {},
   "outputs": [
    {
     "name": "stdout",
     "output_type": "stream",
     "text": [
      "Index(['Position', 'Team', 'GF', 'GA', 'Points'], dtype='object')\n"
     ]
    }
   ],
   "source": [
    "# columns makes reference to the column labels\n",
    "print(third_dataframe.columns)"
   ]
  },
  {
   "cell_type": "code",
   "execution_count": 6,
   "metadata": {},
   "outputs": [
    {
     "name": "stdout",
     "output_type": "stream",
     "text": [
      "0          PSV\n",
      "1         Ajax\n",
      "2    Feyenoord\n",
      "3       Twente\n",
      "Name: Team, dtype: object\n"
     ]
    }
   ],
   "source": [
    "# iloc allows to access the index by integer-location (e.g. all team names, which are in the second columm)\n",
    "print(third_dataframe.iloc[:,1])"
   ]
  },
  {
   "cell_type": "code",
   "execution_count": 7,
   "metadata": {},
   "outputs": [
    {
     "name": "stdout",
     "output_type": "stream",
     "text": [
      "PSV\n"
     ]
    }
   ],
   "source": [
    "# loc allows to access the index by label(s)-location (e.g. all team names, which are in the \"Team\" columm)\n",
    "print(third_dataframe.loc[0, 'Team'])"
   ]
  },
  {
   "cell_type": "code",
   "execution_count": 8,
   "metadata": {},
   "outputs": [
    {
     "name": "stdout",
     "output_type": "stream",
     "text": [
      "(4, 5)\n"
     ]
    }
   ],
   "source": [
    "# shape returns a tuple with the DataFrame dimension, similar to numpy\n",
    "print(third_dataframe.shape)"
   ]
  },
  {
   "cell_type": "code",
   "execution_count": 9,
   "metadata": {},
   "outputs": [
    {
     "name": "stdout",
     "output_type": "stream",
     "text": [
      "[['1' 'PSV' '80' '30' '79']\n",
      " ['2' 'Ajax' '75' '25' '78']\n",
      " ['3' 'Feyenoord' '75' '40' '70']\n",
      " ['4' 'Twente' '70' '60' '66']]\n"
     ]
    }
   ],
   "source": [
    "# values return a Numpy representation of the DataFrame data\n",
    "print(third_dataframe.values)"
   ]
  },
  {
   "cell_type": "markdown",
   "metadata": {},
   "source": [
    "### DataFrame methods\n",
    "This section gives a quick overview of some of the `pandas.DataFrame` methods such as `head`, `describe`, `concat`, `groupby`,`rename`, `filter`, `drop` and `isna`. To import data from CSV or MS Excel files, we can make use of `read_csv` and `read_excel`, respectively."
   ]
  },
  {
   "cell_type": "code",
   "execution_count": 10,
   "metadata": {},
   "outputs": [
    {
     "name": "stdout",
     "output_type": "stream",
     "text": [
      "  Position       Team  GF  GA Points\n",
      "0        1        PSV  80  30     79\n",
      "1        2       Ajax  75  25     78\n",
      "2        3  Feyenoord  75  40     70\n",
      "3        4     Twente  70  60     66\n"
     ]
    }
   ],
   "source": [
    "# print the first few rows in your dataset with head()\n",
    "print(third_dataframe.head()) # In this case, it is not very useful because we don't have thousands of rows"
   ]
  },
  {
   "cell_type": "code",
   "execution_count": 11,
   "metadata": {},
   "outputs": [
    {
     "name": "stdout",
     "output_type": "stream",
     "text": [
      "       Position Team  GF  GA Points\n",
      "count         4    4   4   4      4\n",
      "unique        4    4   3   4      4\n",
      "top           2  PSV  75  25     66\n",
      "freq          1    1   2   1      1\n"
     ]
    }
   ],
   "source": [
    "# get the summary statistics of the DataFrame with describe()\n",
    "print(third_dataframe.describe())"
   ]
  },
  {
   "cell_type": "code",
   "execution_count": 12,
   "metadata": {},
   "outputs": [
    {
     "name": "stdout",
     "output_type": "stream",
     "text": [
      "  Position  Team  GF  GA Points\n",
      "0        1   PSV  80  30     79\n",
      "1        2  Ajax  75  25     78\n",
      "\n",
      "\n",
      "  Position       Team  GF  GA Points\n",
      "2        3  Feyenoord  75  40     70\n",
      "3        4     Twente  70  60     66\n",
      "\n",
      "\n",
      "  Position       Team  GF  GA Points\n",
      "0        1        PSV  80  30     79\n",
      "1        2       Ajax  75  25     78\n",
      "2        3  Feyenoord  75  40     70\n",
      "3        4     Twente  70  60     66\n"
     ]
    }
   ],
   "source": [
    "# concatenate (join) DataFrame objects using concat()\n",
    "\n",
    "# first, we will split the above DataFrame in two different ones\n",
    "df_a = third_dataframe.loc[[0,1],:]\n",
    "df_b = third_dataframe.loc[[2,3],:]\n",
    "\n",
    "print(df_a)\n",
    "print('\\n')\n",
    "\n",
    "print(df_b)\n",
    "print('\\n')\n",
    "\n",
    "# now, we concatenate both datasets\n",
    "df = pd.concat([df_a, df_b])\n",
    "\n",
    "print(df)"
   ]
  },
  {
   "cell_type": "code",
   "execution_count": 13,
   "metadata": {},
   "outputs": [
    {
     "name": "stdout",
     "output_type": "stream",
     "text": [
      "  Position       Team  GF  GA Points\n",
      "1        2       Ajax  75  25     78\n",
      "2        3  Feyenoord  75  40     70\n"
     ]
    }
   ],
   "source": [
    "# group the data by certain variable via groupby()\n",
    "# here, we have grouped the data by goals for, which in this case is 75\n",
    "\n",
    "group = df.groupby('GF')\n",
    "\n",
    "print(group.get_group('75'))"
   ]
  },
  {
   "cell_type": "code",
   "execution_count": 14,
   "metadata": {},
   "outputs": [
    {
     "name": "stdout",
     "output_type": "stream",
     "text": [
      "  Pos       Club  GF  GA Points\n",
      "0   1        PSV  80  30     79\n",
      "1   2       Ajax  75  25     78\n",
      "2   3  Feyenoord  75  40     70\n",
      "3   4     Twente  70  60     66\n"
     ]
    }
   ],
   "source": [
    "# rename() helps you change the column or index names\n",
    "print(df.rename(columns={'Position':'Pos','Team':'Club'}))"
   ]
  },
  {
   "cell_type": "code",
   "execution_count": 15,
   "metadata": {},
   "outputs": [
    {
     "name": "stdout",
     "output_type": "stream",
     "text": [
      "        Team Points\n",
      "0        PSV     79\n",
      "1       Ajax     78\n",
      "2  Feyenoord     70\n",
      "3     Twente     66\n"
     ]
    }
   ],
   "source": [
    "# build a subset of rows or columns of your dataset according to labels via filter()\n",
    "# here, items refer to the variable names: 'Team' and 'Points'; to select columns, we specify axis=1\n",
    "print(df.filter(items=['Team', 'Points'], axis=1))"
   ]
  },
  {
   "cell_type": "code",
   "execution_count": 16,
   "metadata": {},
   "outputs": [
    {
     "name": "stdout",
     "output_type": "stream",
     "text": [
      "  Position       Team Points\n",
      "0        1        PSV     79\n",
      "1        2       Ajax     78\n",
      "2        3  Feyenoord     70\n",
      "3        4     Twente     66\n"
     ]
    }
   ],
   "source": [
    "# dropping some labels\n",
    "print(df.drop(columns=['GF', 'GA']))"
   ]
  },
  {
   "cell_type": "code",
   "execution_count": 17,
   "metadata": {},
   "outputs": [
    {
     "name": "stdout",
     "output_type": "stream",
     "text": [
      "   Position   Team     GF     GA  Points\n",
      "0     False  False  False  False   False\n",
      "1     False  False  False  False   False\n",
      "2     False  False  False  False   False\n",
      "3     False  False  False  False   False\n",
      "\n",
      "\n",
      "  Position       Team  GF  GA Points     W\n",
      "0        1        PSV  80  30     79   NaN\n",
      "1        2       Ajax  75  25     78  25.0\n",
      "2        3  Feyenoord  75  40     70  24.0\n",
      "3        4     Twente  70  60     66  19.0\n",
      "\n",
      "\n",
      "   Position   Team     GF     GA  Points      W\n",
      "0     False  False  False  False   False   True\n",
      "1     False  False  False  False   False  False\n",
      "2     False  False  False  False   False  False\n",
      "3     False  False  False  False   False  False\n"
     ]
    }
   ],
   "source": [
    "# search for NA (not available) entries in the DataFrame\n",
    "print(df.isna()) # No NA values\n",
    "print('\\n')\n",
    "\n",
    "# create a pandas Series with a NA value\n",
    "# the Series as W (winnin matches)\n",
    "tmp = pd.Series([np.NaN, 25, 24, 19],  name=\"W\")\n",
    "\n",
    "# concatenate the Series with the DataFrame\n",
    "df = pd.concat([df,tmp], axis = 1)\n",
    "print(df)\n",
    "print('\\n')\n",
    "\n",
    "# again, check for NA entries\n",
    "print(df.isna())"
   ]
  },
  {
   "cell_type": "markdown",
   "metadata": {},
   "source": [
    "## Dataset\n",
    "\n",
    "For this week exercises we will use a dataset from the Genomics of Drug Sensitivity in Cancer (GDSC) project (https://www.cancerrxgene.org/). In this study (['Iorio et al., Cell, 2016']()), 265 compounds were tested on 1001 cancer cell lines for which different types of -omics data (RNA expression, DNA methylation, Copy Number Alteration, DNA sequencing) are available. This is a valuable resource to look for biomarkers of drugs sensitivity in order to try to understand why cancer patients responds very differently to cancer drugs and find ways to assign the optimal treatment to each patient.\n",
    "\n",
    "For this exercise we will use a subset of the data, focusing the response to the drug YM155 (Sepantronium bromide) on four cancer types, for a total of 148 cancer cell lines.\n",
    "\n",
    "| ID          | Cancer type                      |\n",
    "|-------------|----------------------------------|\n",
    "|   COAD/READ | Colorectal adenocarcinoma        |\n",
    "|   NB        | Neuroblastoma                    |\n",
    "|   KIRC      | Kidney renal clear cell carcinoma|\n",
    "|   BRCA      | Breast carcinoma                 |\n",
    "\n",
    "We will use the RNA expression data (RMA normalised). Only genes with high variability across cell lines (variance > 5, resulting in 238 genes) have been kept.\n",
    "\n",
    "Drugs have been tested at different concentration, measuring each time the viability of the cells. Drug sensitivity is measured using the natural log of the fitted IC50 metric, which is defined as the half maximal inhibitory concentration. A lower IC50 corresponds to a more sensitive cell line because a lower amount of drug is sufficient to have a strong response, while a higher IC50 corresponds to a more resistant cell line because more drug is needed for killing the cells.\n",
    "\n",
    "Based on the IC50 metric, cells can be classified as sensitive or resistant. The classification is done by computing the $z$-score across all cell lines in the GDSC for each drug, and considering as sensitive the ones with $z$-score < 0 and resistant the ones with $z$-score > 0.\n",
    "\n",
    "The dataset is originally provided as 3 files ([original source](https://www.sciencedirect.com/science/article/pii/S0092867416307462?via%3Dihub)) :\n",
    "\n",
    "`GDSC_RNA_expression.csv`: gene expression matrix with the cell lines in the rows (148) and the genes in the columns (238).\n",
    "\n",
    "`GDSC_drug_response.csv`: vector with the cell lines response to the drug YM155 in terms of log(IC50) and as classification in sensitive or resistant.\n",
    "\n",
    "`GDSC_metadata.csv`: metadata for the 148 cell lines including name, COSMIC ID and tumor type (using the classification from ['The Cancer Genome Atlas TCGA'](https://www.cancer.gov/about-nci/organization/ccg/research/structural-genomics/tcga))\n",
    "\n",
    "For convenience, we provide the data already curated.\n",
    "\n",
    "`RNA_expression_curated.csv`: [148 cell lines , 238 genes]\n",
    "\n",
    "`drug_response_curated.csv`: [148 cell lines , YM155 drug]\n",
    "\n",
    "The curated data cam be read as `pandas` `DataFrame`s in the following way:"
   ]
  },
  {
   "cell_type": "code",
   "execution_count": 18,
   "metadata": {},
   "outputs": [],
   "source": [
    "import pandas as pd\n",
    "import os\n",
    "\n",
    "folder_path = r\"C:\\Users\\larsd\\OneDrive - TU Eindhoven\\Universiteit\\Master Medical Engineering\\Jaar 1\\Kwartiel 1\\Machine learning in MI and biology (8DM50)\\8dm50-machine-learning-master\\practicals\"\n",
    "\n",
    "gene_expression = pd.read_csv(os.path.join(folder_path, \"data/RNA_expression_curated.csv\"), sep=',', header=0, index_col=0)\n",
    "drug_response = pd.read_csv(os.path.join(folder_path, \"data/drug_response_curated.csv\"), sep=',', header=0, index_col=0)"
   ]
  },
  {
   "cell_type": "code",
   "execution_count": 19,
   "metadata": {},
   "outputs": [
    {
     "data": {
      "text/html": [
       "<div>\n",
       "<style scoped>\n",
       "    .dataframe tbody tr th:only-of-type {\n",
       "        vertical-align: middle;\n",
       "    }\n",
       "\n",
       "    .dataframe tbody tr th {\n",
       "        vertical-align: top;\n",
       "    }\n",
       "\n",
       "    .dataframe thead th {\n",
       "        text-align: right;\n",
       "    }\n",
       "</style>\n",
       "<table border=\"1\" class=\"dataframe\">\n",
       "  <thead>\n",
       "    <tr style=\"text-align: right;\">\n",
       "      <th></th>\n",
       "      <th>TFPI</th>\n",
       "      <th>TFAP2B</th>\n",
       "      <th>MGST1</th>\n",
       "      <th>PRSS3</th>\n",
       "      <th>ISL1</th>\n",
       "      <th>SNAI2</th>\n",
       "      <th>SERPINB1</th>\n",
       "      <th>VIM</th>\n",
       "      <th>CD44</th>\n",
       "      <th>VCAN</th>\n",
       "      <th>...</th>\n",
       "      <th>PSMB8</th>\n",
       "      <th>HSPA1A</th>\n",
       "      <th>SERPINB5</th>\n",
       "      <th>MLLT11</th>\n",
       "      <th>AKR1B10P1</th>\n",
       "      <th>UCA1</th>\n",
       "      <th>MIR205HG</th>\n",
       "      <th>PHGR1</th>\n",
       "      <th>HLA-B</th>\n",
       "      <th>SEPP1</th>\n",
       "    </tr>\n",
       "  </thead>\n",
       "  <tbody>\n",
       "    <tr>\n",
       "      <th>949176</th>\n",
       "      <td>7.166555</td>\n",
       "      <td>2.795512</td>\n",
       "      <td>7.917741</td>\n",
       "      <td>9.466787</td>\n",
       "      <td>8.436305</td>\n",
       "      <td>9.500610</td>\n",
       "      <td>7.380575</td>\n",
       "      <td>13.073855</td>\n",
       "      <td>3.374265</td>\n",
       "      <td>9.332068</td>\n",
       "      <td>...</td>\n",
       "      <td>4.338325</td>\n",
       "      <td>3.193308</td>\n",
       "      <td>3.231940</td>\n",
       "      <td>10.828382</td>\n",
       "      <td>2.977182</td>\n",
       "      <td>3.694196</td>\n",
       "      <td>3.056695</td>\n",
       "      <td>2.714666</td>\n",
       "      <td>5.156024</td>\n",
       "      <td>9.426053</td>\n",
       "    </tr>\n",
       "    <tr>\n",
       "      <th>749714</th>\n",
       "      <td>9.084584</td>\n",
       "      <td>2.693997</td>\n",
       "      <td>12.199084</td>\n",
       "      <td>2.975566</td>\n",
       "      <td>3.479229</td>\n",
       "      <td>8.489317</td>\n",
       "      <td>8.500992</td>\n",
       "      <td>5.631460</td>\n",
       "      <td>7.950032</td>\n",
       "      <td>2.845233</td>\n",
       "      <td>...</td>\n",
       "      <td>9.492377</td>\n",
       "      <td>11.628330</td>\n",
       "      <td>7.902180</td>\n",
       "      <td>3.568167</td>\n",
       "      <td>7.806236</td>\n",
       "      <td>12.332383</td>\n",
       "      <td>11.264508</td>\n",
       "      <td>3.405150</td>\n",
       "      <td>11.842518</td>\n",
       "      <td>6.269068</td>\n",
       "    </tr>\n",
       "    <tr>\n",
       "      <th>749709</th>\n",
       "      <td>7.409983</td>\n",
       "      <td>3.034927</td>\n",
       "      <td>11.597315</td>\n",
       "      <td>3.100007</td>\n",
       "      <td>2.993368</td>\n",
       "      <td>9.676350</td>\n",
       "      <td>9.491955</td>\n",
       "      <td>9.558949</td>\n",
       "      <td>8.817890</td>\n",
       "      <td>2.955041</td>\n",
       "      <td>...</td>\n",
       "      <td>9.511871</td>\n",
       "      <td>10.993441</td>\n",
       "      <td>7.528199</td>\n",
       "      <td>2.883216</td>\n",
       "      <td>10.389229</td>\n",
       "      <td>7.769475</td>\n",
       "      <td>12.675657</td>\n",
       "      <td>2.718737</td>\n",
       "      <td>11.583025</td>\n",
       "      <td>4.060529</td>\n",
       "    </tr>\n",
       "    <tr>\n",
       "      <th>1660034</th>\n",
       "      <td>3.366363</td>\n",
       "      <td>2.850566</td>\n",
       "      <td>10.101420</td>\n",
       "      <td>3.422998</td>\n",
       "      <td>4.553985</td>\n",
       "      <td>4.206307</td>\n",
       "      <td>10.670574</td>\n",
       "      <td>3.309632</td>\n",
       "      <td>7.547344</td>\n",
       "      <td>2.939078</td>\n",
       "      <td>...</td>\n",
       "      <td>8.228828</td>\n",
       "      <td>4.561736</td>\n",
       "      <td>10.573551</td>\n",
       "      <td>3.124834</td>\n",
       "      <td>5.842664</td>\n",
       "      <td>7.864870</td>\n",
       "      <td>3.235421</td>\n",
       "      <td>11.684274</td>\n",
       "      <td>11.187621</td>\n",
       "      <td>3.421234</td>\n",
       "    </tr>\n",
       "    <tr>\n",
       "      <th>1240123</th>\n",
       "      <td>3.622246</td>\n",
       "      <td>3.004234</td>\n",
       "      <td>10.139788</td>\n",
       "      <td>6.627779</td>\n",
       "      <td>3.268149</td>\n",
       "      <td>3.752552</td>\n",
       "      <td>10.565739</td>\n",
       "      <td>3.138711</td>\n",
       "      <td>4.366684</td>\n",
       "      <td>2.932474</td>\n",
       "      <td>...</td>\n",
       "      <td>8.505643</td>\n",
       "      <td>2.932354</td>\n",
       "      <td>3.448589</td>\n",
       "      <td>3.502982</td>\n",
       "      <td>4.433917</td>\n",
       "      <td>4.462764</td>\n",
       "      <td>3.240951</td>\n",
       "      <td>11.547653</td>\n",
       "      <td>10.290615</td>\n",
       "      <td>2.909176</td>\n",
       "    </tr>\n",
       "  </tbody>\n",
       "</table>\n",
       "<p>5 rows × 238 columns</p>\n",
       "</div>"
      ],
      "text/plain": [
       "             TFPI    TFAP2B      MGST1     PRSS3      ISL1     SNAI2  \\\n",
       "949176   7.166555  2.795512   7.917741  9.466787  8.436305  9.500610   \n",
       "749714   9.084584  2.693997  12.199084  2.975566  3.479229  8.489317   \n",
       "749709   7.409983  3.034927  11.597315  3.100007  2.993368  9.676350   \n",
       "1660034  3.366363  2.850566  10.101420  3.422998  4.553985  4.206307   \n",
       "1240123  3.622246  3.004234  10.139788  6.627779  3.268149  3.752552   \n",
       "\n",
       "          SERPINB1        VIM      CD44      VCAN  ...     PSMB8     HSPA1A  \\\n",
       "949176    7.380575  13.073855  3.374265  9.332068  ...  4.338325   3.193308   \n",
       "749714    8.500992   5.631460  7.950032  2.845233  ...  9.492377  11.628330   \n",
       "749709    9.491955   9.558949  8.817890  2.955041  ...  9.511871  10.993441   \n",
       "1660034  10.670574   3.309632  7.547344  2.939078  ...  8.228828   4.561736   \n",
       "1240123  10.565739   3.138711  4.366684  2.932474  ...  8.505643   2.932354   \n",
       "\n",
       "          SERPINB5     MLLT11  AKR1B10P1       UCA1   MIR205HG      PHGR1  \\\n",
       "949176    3.231940  10.828382   2.977182   3.694196   3.056695   2.714666   \n",
       "749714    7.902180   3.568167   7.806236  12.332383  11.264508   3.405150   \n",
       "749709    7.528199   2.883216  10.389229   7.769475  12.675657   2.718737   \n",
       "1660034  10.573551   3.124834   5.842664   7.864870   3.235421  11.684274   \n",
       "1240123   3.448589   3.502982   4.433917   4.462764   3.240951  11.547653   \n",
       "\n",
       "             HLA-B     SEPP1  \n",
       "949176    5.156024  9.426053  \n",
       "749714   11.842518  6.269068  \n",
       "749709   11.583025  4.060529  \n",
       "1660034  11.187621  3.421234  \n",
       "1240123  10.290615  2.909176  \n",
       "\n",
       "[5 rows x 238 columns]"
      ]
     },
     "execution_count": 19,
     "metadata": {},
     "output_type": "execute_result"
    }
   ],
   "source": [
    "gene_expression.head()"
   ]
  },
  {
   "cell_type": "code",
   "execution_count": 20,
   "metadata": {},
   "outputs": [
    {
     "data": {
      "text/html": [
       "<div>\n",
       "<style scoped>\n",
       "    .dataframe tbody tr th:only-of-type {\n",
       "        vertical-align: middle;\n",
       "    }\n",
       "\n",
       "    .dataframe tbody tr th {\n",
       "        vertical-align: top;\n",
       "    }\n",
       "\n",
       "    .dataframe thead th {\n",
       "        text-align: right;\n",
       "    }\n",
       "</style>\n",
       "<table border=\"1\" class=\"dataframe\">\n",
       "  <thead>\n",
       "    <tr style=\"text-align: right;\">\n",
       "      <th></th>\n",
       "      <th>YM155</th>\n",
       "    </tr>\n",
       "  </thead>\n",
       "  <tbody>\n",
       "    <tr>\n",
       "      <th>949176</th>\n",
       "      <td>0.42</td>\n",
       "    </tr>\n",
       "    <tr>\n",
       "      <th>749714</th>\n",
       "      <td>-4.31</td>\n",
       "    </tr>\n",
       "    <tr>\n",
       "      <th>749709</th>\n",
       "      <td>-4.80</td>\n",
       "    </tr>\n",
       "    <tr>\n",
       "      <th>1660034</th>\n",
       "      <td>-0.88</td>\n",
       "    </tr>\n",
       "    <tr>\n",
       "      <th>1240123</th>\n",
       "      <td>1.82</td>\n",
       "    </tr>\n",
       "  </tbody>\n",
       "</table>\n",
       "</div>"
      ],
      "text/plain": [
       "         YM155\n",
       "949176    0.42\n",
       "749714   -4.31\n",
       "749709   -4.80\n",
       "1660034  -0.88\n",
       "1240123   1.82"
      ]
     },
     "execution_count": 20,
     "metadata": {},
     "output_type": "execute_result"
    }
   ],
   "source": [
    "drug_response.head()"
   ]
  },
  {
   "cell_type": "markdown",
   "metadata": {},
   "source": [
    "You can use the `DataFrame`s directly as inputs to the the `sklearn` models. The advantage over using `numpy` arrays is that the variable are annotated, i.e. each input and output has a name."
   ]
  },
  {
   "cell_type": "markdown",
   "metadata": {},
   "source": [
    "## Tools\n",
    "The `scikit-learn` library provides the required tools for linear regression/classification and shrinkage, as well as for logistic regression."
   ]
  },
  {
   "cell_type": "code",
   "execution_count": 21,
   "metadata": {},
   "outputs": [],
   "source": [
    "from sklearn.linear_model import LinearRegression\n",
    "from sklearn.linear_model import Ridge\n",
    "from sklearn.linear_model import Lasso\n",
    "from sklearn.linear_model import LogisticRegression"
   ]
  },
  {
   "cell_type": "markdown",
   "metadata": {},
   "source": [
    "Note that the notation used for the hyperparameters in the `scikit-learn` library is different from the one used in the lecture. More specifically, in the lecture $\\alpha$ is the tunable parameter to select the compromise between Ridge and Lasso. Whereas, `scikit-learn` library refers to `alpha` as the tunable parameter $\\lambda$. Please check the documentation for more details."
   ]
  },
  {
   "cell_type": "markdown",
   "metadata": {},
   "source": [
    "# Exercises"
   ]
  },
  {
   "cell_type": "code",
   "execution_count": 22,
   "metadata": {},
   "outputs": [
    {
     "name": "stdout",
     "output_type": "stream",
     "text": [
      "(118, 238)\n",
      "(30, 238)\n"
     ]
    }
   ],
   "source": [
    "from sklearn.model_selection import train_test_split\n",
    "X_train, X_test, y_train, y_test = train_test_split(gene_expression, drug_response, test_size=0.2)\n",
    "print(X_train.shape)\n",
    "print(X_test.shape)"
   ]
  },
  {
   "cell_type": "markdown",
   "metadata": {},
   "source": [
    "## Selection of the hyperparameter\n",
    "\n",
    "Implement cross-validation (using `sklearn.grid_search.GridSearchCV`) to select the `alpha` hyperparameter of `sklearn.linear_model.Lasso`. "
   ]
  },
  {
   "cell_type": "code",
   "execution_count": 23,
   "metadata": {},
   "outputs": [
    {
     "name": "stdout",
     "output_type": "stream",
     "text": [
      "Optimal value: α=1.0460859051039608\n"
     ]
    },
    {
     "data": {
      "image/png": "[encoded data removed]",
      "text/plain": [
       "<Figure size 432x288 with 1 Axes>"
      ]
     },
     "metadata": {
      "needs_background": "light"
     },
     "output_type": "display_data"
    }
   ],
   "source": [
    "from sklearn.model_selection import GridSearchCV\n",
    "import numpy as np\n",
    "import matplotlib.pyplot as plt\n",
    "\n",
    "alpha_range = np.logspace(np.log10(1e-3), np.log10(5),50)\n",
    "parms = {'alpha': alpha_range}\n",
    "model = Lasso(tol=1e-2)\n",
    "\n",
    "# perform grid search of polynomial order\n",
    "gscv = GridSearchCV(model, parms, cv = 10, scoring='neg_mean_squared_error')\n",
    "gscv.fit(X_train,y_train)\n",
    "results = gscv.cv_results_['mean_test_score']\n",
    "\n",
    "# get best value of alpha\n",
    "best_alpha = gscv.best_params_['alpha']\n",
    "print(\"Optimal value: \\u03B1={}\".format(best_alpha))\n",
    "\n",
    "# visualize results\n",
    "plt.plot(np.log10(alpha_range), results, 'r-')\n",
    "plt.title('Negative MSE for varying values of \\u03B1')\n",
    "plt.xlabel('\\u03B1')\n",
    "plt.ylabel('Negative MSE')\n",
    "plt.show()"
   ]
  },
  {
   "cell_type": "markdown",
   "metadata": {},
   "source": [
    "## Feature selection\n",
    "\n",
    "Look at the features selected using the hyperparameter which corresponds to the minimum cross-validation error.\n",
    "\n",
    "<p><font color='#770a0a'>Is the partition in training and validation sets playing a role in the selection of the hyperparameter? How will this affect the selection of the relevant features?</font></p>\n",
    "\n",
    "Yes, selected features are sensitive to the partition of the cross-validation. Therefore, bootstrapping should be used to select only robust features by repeating the feature selection procedure a number of times.\n",
    "\n",
    "<p><font color='#770a0a'>Should the value of the intercept also be shrunk to zero with Lasso and Ridge regression? Motivate your answer.</font></p>\n",
    "\n",
    "No, the intercept $\\beta_0$ is not penalized with Lasso and Ridge regression and is therefore not necessarily shrunk to zero."
   ]
  },
  {
   "cell_type": "code",
   "execution_count": 24,
   "metadata": {},
   "outputs": [
    {
     "name": "stdout",
     "output_type": "stream",
     "text": [
      "24       ABCB1\n",
      "90      TSPAN8\n",
      "155      FABP1\n",
      "209    TACSTD2\n",
      "218     AKR1C3\n",
      "Name: genes, dtype: object\n"
     ]
    },
    {
     "data": {
      "text/plain": [
       "array([-5.34542627])"
      ]
     },
     "execution_count": 24,
     "metadata": {},
     "output_type": "execute_result"
    }
   ],
   "source": [
    "model = Lasso(alpha=best_alpha, tol=1e-2)\n",
    "model.fit(X_train, y_train)\n",
    "coefs = pd.DataFrame(model.coef_, columns=['coef'])\n",
    "\n",
    "concat = pd.DataFrame({\"coef\":coefs['coef'], \"genes\":gene_expression.columns})\n",
    "print(concat[concat['coef'] != 0]['genes'])\n",
    "\n",
    "model.intercept_"
   ]
  },
  {
   "cell_type": "markdown",
   "metadata": {},
   "source": [
    "## Bias-variance \n",
    "\n",
    "Show the effect of the regularization on the parameter estimates in terms of bias and variance. For this you can repeat the optimization 100 times using bootstrap and visualise the profile of the Lasso regression coefficient over a grid of the hyperparameter, optionally including the variability as error bars."
   ]
  },
  {
   "cell_type": "code",
   "execution_count": 25,
   "metadata": {},
   "outputs": [
    {
     "data": {
      "image/png": "[encoded data removed]",
      "text/plain": [
       "<Figure size 432x288 with 1 Axes>"
      ]
     },
     "metadata": {
      "needs_background": "light"
     },
     "output_type": "display_data"
    }
   ],
   "source": [
    "model = Lasso(alpha=best_alpha, tol=1e-2, max_iter=1000)\n",
    "coefs = []\n",
    "for a in alpha_range:\n",
    "    model.set_params(alpha=a)\n",
    "    model.fit(X_train, y_train)\n",
    "    coefs.append(model.coef_)\n",
    "\n",
    "coefs = pd.DataFrame(coefs)\n",
    "\n",
    "for i in range(238):\n",
    "    plt.plot(np.log10(alpha_range), coefs[i])\n",
    "plt.title('Lasso coefficients as a function of \\u03B1')\n",
    "plt.xlabel('\\u03B1')\n",
    "plt.ylabel('Coefficients')\n",
    "plt.show()\n"
   ]
  },
  {
   "cell_type": "code",
   "execution_count": 26,
   "metadata": {},
   "outputs": [
    {
     "name": "stdout",
     "output_type": "stream",
     "text": [
      "The optimal value of α = 1.01\n"
     ]
    },
    {
     "data": {
      "image/png": "[encoded data removed]",
      "text/plain": [
       "<Figure size 432x288 with 1 Axes>"
      ]
     },
     "metadata": {
      "needs_background": "light"
     },
     "output_type": "display_data"
    }
   ],
   "source": [
    "# source: https://www.kirenz.com/post/2019-08-12-python-lasso-regression-auto/\n",
    "\n",
    "from sklearn.linear_model import LassoCV\n",
    "import warnings\n",
    "warnings.filterwarnings('ignore')\n",
    "\n",
    "# Lasso with 100 fold cross-validation\n",
    "model = LassoCV(cv=100, random_state=0, max_iter=100)\n",
    "\n",
    "# Fit model\n",
    "model.fit(X_train, y_train)\n",
    "print(\"The optimal value of \\u03B1 = {:.2f}\".format(model.alpha_))\n",
    "\n",
    "results = model.mse_path_\n",
    "SEs = [np.std(results[i]) / np.sqrt(np.size(results[i])) for i in range(len(results))]\n",
    "\n",
    "\n",
    "plt.errorbar(x = model.alphas_ , y = model.mse_path_.mean(axis=-1), yerr=SEs,\n",
    "    label=\"Average across the folds\", linewidth=2, ecolor = \"grey\", color = \"red\")\n",
    "\n",
    "plt.axvline(model.alpha_, linestyle=\"-.\", color=\"b\", label=\"Optimal \\u03B1\")\n",
    "\n",
    "plt.legend()\n",
    "plt.xlabel(\"\\u03B1 [log-scale]\")\n",
    "plt.ylabel(\"MSE\")\n",
    "plt.title(\"100-fold crossvalidation\")\n",
    "plt.xscale('log')\n",
    "plt.show()"
   ]
  },
  {
   "cell_type": "markdown",
   "metadata": {},
   "source": [
    "<p><font color='#770a0a'>Based on the visual analysis of the plot, what are your observation on bias and variance in relation to model complexity? Motivate your answer.</font></p>\n",
    "\n",
    "As $\\alpha$ increases the number of features used in the model decreases, which means that the model is becoming less complex. Initially the MSE decreases as $\\alpha$ increases, indicating that the bias decreases. As $\\alpha$ increases further, the variance increases which results in worse performance the optimal value of $\\alpha$ has been achieved."
   ]
  },
  {
   "cell_type": "markdown",
   "metadata": {},
   "source": [
    "## Logistic regression\n",
    "\n",
    "<p><font color='#770a0a'>Write the expression of the objective function for the penalized logistic regression with $L_1$ and $L_2$ regularisation (as in Elastic net).</font></p>"
   ]
  },
  {
   "cell_type": "markdown",
   "metadata": {},
   "source": [
    "$\\displaystyle\\max_{\\beta_0,\\beta}\\biggl\\{\\sum^N_{i=1}[y_i(\\beta_0+\\beta^Tx_i)-\\text{log}(1+e^{(\\beta_0+\\beta^Tx_i)})]-\n",
    "\\lambda\\sum^p_{j=1}((\\alpha\\beta^2_j+(1-\\alpha)|\\beta_j|)\\biggr\\}$\n",
    "\n",
    "Where $\\alpha=0$ corresponds to $L_1$ regularisation and $\\alpha=1$ corresponds to $L_2$ regularisation."
   ]
  }
 ],
 "metadata": {
  "kernelspec": {
   "display_name": "Python 3",
   "language": "python",
   "name": "python3"
  },
  "language_info": {
   "codemirror_mode": {
    "name": "ipython",
    "version": 3
   },
   "file_extension": ".py",
   "mimetype": "text/x-python",
   "name": "python",
   "nbconvert_exporter": "python",
   "pygments_lexer": "ipython3",
   "version": "3.6.13"
  }
 },
 "nbformat": 4,
 "nbformat_minor": 2
}
