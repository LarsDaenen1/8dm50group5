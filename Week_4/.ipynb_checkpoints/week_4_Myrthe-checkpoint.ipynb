{
 "cells": [
  {
   "cell_type": "markdown",
   "metadata": {},
   "source": [
    "# Preliminaries\n",
    "\n",
    "## Dataset\n",
    "\n",
    "In this set of exercises we will use the same dataset as from [week 3](week_3.ipynb). \n",
    "\n",
    "\n",
    "As before, we provide the data already curated in the following two files:\n",
    "\n",
    "`RNA_expression_curated.csv`: [148 cell lines , 238 genes]\n",
    "\n",
    "`drug_response_curated.csv`: [148 cell lines , YM155 drug]\n",
    "\n",
    "The curated data can be read as `pandas` `DataFrame` in the following way:"
   ]
  },
  {
   "cell_type": "code",
   "execution_count": 1,
   "metadata": {},
   "outputs": [],
   "source": [
    "import pandas as pd\n",
    "\n",
    "gene_expression = pd.read_csv(\"./data/RNA_expression_curated.csv\", sep=',', header=0, index_col=0)\n",
    "drug_response = pd.read_csv(\"./data/drug_response_curated.csv\", sep=',', header=0, index_col=0)"
   ]
  },
  {
   "cell_type": "markdown",
   "metadata": {},
   "source": [
    "The goal of the exercises is to train support vector machine (SVM) and random forests classifiers on this dataset and explore and learn about their hyperparameters. "
   ]
  },
  {
   "cell_type": "markdown",
   "metadata": {},
   "source": [
    "## Tools\n",
    "\n",
    "The `scikit-learn` library provides the required tools for support vector machines, as well as for random forest algorithms."
   ]
  },
  {
   "cell_type": "code",
   "execution_count": 2,
   "metadata": {},
   "outputs": [
    {
     "name": "stderr",
     "output_type": "stream",
     "text": [
      "C:\\Users\\20192024\\AppData\\Local\\Continuum\\anaconda3\\lib\\site-packages\\sklearn\\utils\\deprecation.py:144: FutureWarning: The sklearn.datasets.samples_generator module is  deprecated in version 0.22 and will be removed in version 0.24. The corresponding classes / functions should instead be imported from sklearn.datasets. Anything that cannot be imported from sklearn.datasets is now part of the private API.\n",
      "  warnings.warn(message, FutureWarning)\n"
     ]
    }
   ],
   "source": [
    "from sklearn import svm \n",
    "from sklearn.ensemble import RandomForestClassifier\n",
    "from sklearn.model_selection import GridSearchCV\n",
    "from sklearn.model_selection import train_test_split\n",
    "from sklearn.datasets.samples_generator import make_blobs, make_circles\n",
    "from sklearn.metrics import classification_report, confusion_matrix\n",
    "from sklearn.preprocessing import StandardScaler\n",
    "import scipy\n"
   ]
  },
  {
   "cell_type": "markdown",
   "metadata": {},
   "source": [
    "Before proceeding, look up the documentation of the imported functions and read about their basic functionality. Below, we list some important parameters of SVMs and random forests that can be tuned during training."
   ]
  },
  {
   "cell_type": "markdown",
   "metadata": {},
   "source": [
    "#### Support Vector Machines (SVM)\n",
    "\n",
    "`C`: error term.\n",
    "\n",
    "`kernel`: similarity function ('linear', 'poly', 'sigmoid' or 'rbf')\n",
    "\n",
    "`gamma`: kernel coef. for 'rbf', 'poly' and 'sigmoid' kernels. It can be thought of as the ‘spread’ of the kernel and therefore the decision region.\n",
    "\n",
    "`degree`: degree for the 'poly' kernel.\n",
    "\n",
    "`coef0`: independt term in the 'poly' and 'sigmoid' kernels\n",
    "\n",
    "\n",
    "#### Random Forests\n",
    "\n",
    "`n_estimators`: number of trees in our random forest.\n",
    "\n",
    "`max_depth`: maximum number of levels in each decision tree\n",
    "\n",
    "`max_features`: maximum number of features to consider per split in an individual tree.\n",
    "\n",
    "`min_sample_leaf`: minimum number of data points per leaf node\n",
    "\n",
    "`min_samples_split`: minimum number of data points placed in a node before the node is split\n",
    "\n",
    "`oob_score`: the out-of-bag (OOB) error is the average error for each observation calculated using predictions from the trees that do not contain that observation in their respective bootstrap sample. Set this parameter to true.\n",
    "\n",
    "`bootstrap`: method for sampling data points (with or without replacement). Set this parameter to true.\n",
    "\n",
    "`criterion`: function used to measure the quality of the split (e.g. 'entropy' or 'gini')\n",
    "\n",
    "# Exercises\n",
    "\n",
    "## Support vector machines\n",
    "\n",
    "The  `make_blobs` and `make_circles` functions can be used to generate linearly and not linearly separable toy datasets. "
   ]
  },
  {
   "cell_type": "code",
   "execution_count": 3,
   "metadata": {},
   "outputs": [],
   "source": [
    "# data generation: linearly separable\n",
    "X, Y = make_blobs(n_samples=200, centers=2, n_features=2, random_state=1234)\n",
    "X = pd.DataFrame(X, columns=['x1', 'x2'])\n",
    "\n",
    "# splitting data into training and test set\n",
    "X_train, X_test, Y_train, Y_test = train_test_split(X, Y, test_size=0.33, random_state=333)"
   ]
  },
  {
   "cell_type": "markdown",
   "metadata": {},
   "source": [
    "The following code illustrates how to train a linear SVM classifier and plot the data points, the separating hyperplane, the support vectors and the margins that pass through them (considering the training data)"
   ]
  },
  {
   "cell_type": "code",
   "execution_count": 4,
   "metadata": {},
   "outputs": [
    {
     "data": {
      "image/png": "[encoded data removed]",
      "text/plain": [
       "<Figure size 432x288 with 1 Axes>"
      ]
     },
     "metadata": {
      "needs_background": "light"
     },
     "output_type": "display_data"
    }
   ],
   "source": [
    "import numpy as np\n",
    "import matplotlib.pyplot as plt\n",
    "\n",
    "# build the model\n",
    "model = svm.SVC(kernel='linear', random_state=33)\n",
    "model.fit(X_train, Y_train)\n",
    "\n",
    "# create plot\n",
    "fig, ax = plt.subplots()\n",
    "\n",
    "# get colors from qualitative colormap 'Paired'\n",
    "cmap = plt.cm.get_cmap('Paired')\n",
    "\n",
    "# plot data points\n",
    "ax.scatter(X_train.iloc[Y_train == 1, 0], X_train.iloc[Y_train == 1, 1],\n",
    "           c=[cmap(11)], label='1')\n",
    "ax.scatter(X_train.iloc[Y_train == 0, 0], X_train.iloc[Y_train == 0, 1],\n",
    "           c=[cmap(0)], label='0')\n",
    "ax.legend(loc='best')\n",
    "\n",
    "# plot the decision function\n",
    "# create grid to evaluate model\n",
    "x1_min, x1_max = X_train.iloc[:, 0].min() - 1, X_train.iloc[:, 0].max() + 1\n",
    "x2_min, x2_max = X_train.iloc[:, 1].min() - 1, X_train.iloc[:, 1].max() + 1\n",
    "\n",
    "XX, YY = np.meshgrid(np.arange(x1_min, x1_max, .2),\n",
    "                     np.arange(x2_min, x2_max, .2))\n",
    "\n",
    "xy = np.vstack([XX.ravel(), YY.ravel()]).T\n",
    "Z = model.decision_function(xy).reshape(XX.shape)\n",
    "\n",
    "# plot decision boundary and margins\n",
    "ax.contour(XX, YY, Z, colors='k', levels=[-1, 0, 1], alpha=0.5,\n",
    "           linestyles=['--', '-', '--'])\n",
    "\n",
    "# Establish the class for each point in the contour\n",
    "Z = model.predict(xy).reshape(XX.shape)\n",
    "\n",
    "# Visualization of the contour\n",
    "ax.contourf(XX, YY, Z, cmap='bwr', alpha=0.3)\n",
    "\n",
    "# plot support vectors, whose are responsible for building the margins\n",
    "ax.scatter(model.support_vectors_[:, 0], model.support_vectors_[:, 1], s=100,\n",
    "           linewidth=1, facecolors='none', edgecolors='k', marker='s')\n",
    "\n",
    "ax.axis([x1_min, x1_max, x2_min, x2_max])\n",
    "plt.axis('tight')\n",
    "plt.title('Linear kernel SVM')\n",
    "plt.show()"
   ]
  },
  {
   "cell_type": "markdown",
   "metadata": {},
   "source": [
    "Train a radial basis function (RBF) SVM classifier with `gamma=0.5` and plot the results in the same way."
   ]
  },
  {
   "cell_type": "code",
   "execution_count": 5,
   "metadata": {},
   "outputs": [
    {
     "data": {
      "image/png": "[encoded data removed]",
      "text/plain": [
       "<Figure size 432x288 with 1 Axes>"
      ]
     },
     "metadata": {
      "needs_background": "light"
     },
     "output_type": "display_data"
    }
   ],
   "source": [
    "# data generation: not linearly separable\n",
    "X, Y = make_circles(n_samples=200, noise=0.05, random_state=1234)\n",
    "X = pd.DataFrame(X, columns=['x1', 'x2'])\n",
    "\n",
    "# splitting data into training and test set\n",
    "X_train, X_test, Y_train, Y_test = train_test_split(X, Y, test_size=0.33, random_state=333)\n",
    "\n",
    "# build the model\n",
    "model = svm.SVC(kernel='rbf', random_state=33,gamma=0.5)\n",
    "model.fit(X_train, Y_train)\n",
    "\n",
    "# create plot\n",
    "fig, ax = plt.subplots()\n",
    "\n",
    "# get colors from qualitative colormap 'Paired'\n",
    "cmap = plt.cm.get_cmap('Paired')\n",
    "\n",
    "# plot data points\n",
    "ax.scatter(X_train.iloc[Y_train == 1, 0], X_train.iloc[Y_train == 1, 1],\n",
    "           c=[cmap(11)], label='1')\n",
    "ax.scatter(X_train.iloc[Y_train == 0, 0], X_train.iloc[Y_train == 0, 1],\n",
    "           c=[cmap(0)], label='0')\n",
    "ax.legend(loc='best')\n",
    "\n",
    "# plot the decision function\n",
    "# create grid to evaluate model\n",
    "x1_min, x1_max = X_train.iloc[:, 0].min() - 1, X_train.iloc[:, 0].max() + 1\n",
    "x2_min, x2_max = X_train.iloc[:, 1].min() - 1, X_train.iloc[:, 1].max() + 1\n",
    "\n",
    "XX, YY = np.meshgrid(np.arange(x1_min, x1_max, .2),\n",
    "                     np.arange(x2_min, x2_max, .2))\n",
    "\n",
    "xy = np.vstack([XX.ravel(), YY.ravel()]).T\n",
    "Z = model.decision_function(xy).reshape(XX.shape)\n",
    "\n",
    "# plot decision boundary and margins\n",
    "ax.contour(XX, YY, Z, colors='k', levels=[-1, 0, 1], alpha=0.5,\n",
    "           linestyles=['--', '-', '--'])\n",
    "\n",
    "# Establish the class for each point in the contour\n",
    "Z = model.predict(xy).reshape(XX.shape)\n",
    "\n",
    "# Visualization of the contour\n",
    "ax.contourf(XX, YY, Z, cmap='bwr', alpha=0.3)\n",
    "\n",
    "# plot support vectors, whose are responsible for building the margins\n",
    "ax.scatter(model.support_vectors_[:, 0], model.support_vectors_[:, 1], s=100,\n",
    "           linewidth=1, facecolors='none', edgecolors='k', marker='s')\n",
    "\n",
    "ax.axis([x1_min, x1_max, x2_min, x2_max])\n",
    "plt.axis('tight')\n",
    "plt.title('Radial Basis Function kernel SVM')\n",
    "plt.show()"
   ]
  },
  {
   "cell_type": "markdown",
   "metadata": {},
   "source": [
    "<p><font color='#770a0a'>When should a RBF kernel be used over a linear kernel? Motivate your answer.</font></p>\n",
    "\n",
    "<p><font color='#770a0a'>Do we need to normalize the data before using a kernel function? Motivate your answer.\n",
    "</font></p>"
   ]
  },
  {
   "cell_type": "markdown",
   "metadata": {},
   "source": [
    "A RBF kernel should be used when the data is linearly non-separable. That is if the dataset is non-linear or the potential boundary to separate the different classes is not a straight line.\n",
    "\n",
    "Yes we need to normalize the data. The RBF kernel (and other kernels as well) computes the distance / difference between x and y in some way (Euclidian or something different). If we would not normalize the data, every feature has a different scale which causes some features to contribute more to the similarity / distance computation than others. This causes a bias towards certain features that is not justified.\n",
    "\n"
   ]
  },
  {
   "cell_type": "markdown",
   "metadata": {},
   "source": [
    "## Predicting drug response on cell lines from gene expression data with SVMs\n",
    "\n",
    "Explore the hyper-parameter space of an SVM classifier with cross-validation for the Genomics of Drug Sensitivity in Cancer (GDSC) dataset. The`GridSearchCV` function can be used to specify a grid of parameter values with the `param_grid` parameter.\n",
    "\n",
    "Calculate the precision of your predictions, and compare your calculations with the results of `classification_report`, which displays many classification metrics.\n"
   ]
  },
  {
   "cell_type": "code",
   "execution_count": 6,
   "metadata": {},
   "outputs": [
    {
     "name": "stdout",
     "output_type": "stream",
     "text": [
      "SVC(C=1, break_ties=False, cache_size=200, class_weight=None,\n",
      "    coef0=2.1544346900318834, decision_function_shape='ovr', degree=1,\n",
      "    gamma=0.1, kernel='sigmoid', max_iter=-1, probability=False,\n",
      "    random_state=None, shrinking=True, tol=0.001, verbose=False)\n",
      "[[23  6]\n",
      " [ 8  0]]\n",
      "              precision    recall  f1-score   support\n",
      "\n",
      "           0       0.74      0.79      0.77        29\n",
      "           1       0.00      0.00      0.00         8\n",
      "\n",
      "    accuracy                           0.62        37\n",
      "   macro avg       0.37      0.40      0.38        37\n",
      "weighted avg       0.58      0.62      0.60        37\n",
      "\n",
      "Calculated precision is 0.0\n"
     ]
    }
   ],
   "source": [
    "# Define X (variables) and y (target)\n",
    "X = gene_expression\n",
    "y = drug_response\n",
    "\n",
    "\n",
    "# Based on the z-score being lower or higher than 0 the drug_response is either classified \n",
    "# as sensitive or resistant respectively\n",
    "y_class = (drug_response > 0).astype(int).to_numpy().ravel()\n",
    "\n",
    "# We split in train and test set\n",
    "X_train, X_test, y_train, y_test = train_test_split(X, y_class, test_size=0.25, random_state=42)\n",
    "\n",
    "# We scale the variables in the training dataset and perform this same transformation on the test set\n",
    "# As mentioned earlier, scaling the features is very important when using a kernel function\n",
    "\n",
    "sc = StandardScaler()\n",
    "X_train = sc.fit_transform(X_train)\n",
    "X_test = sc.transform(X_test)\n",
    "\n",
    "\n",
    "# define the model\n",
    "model = svm.SVC()\n",
    "\n",
    "# For SVM, three hyperparameters are the most important to be tuned:\n",
    "# the regularization strength (C), the kernel type (e.g. linear, RBF, sigmoid etc.) and the kernel coefficient for rbf, \n",
    "# sigmoid and poly (Gamma)\n",
    "# We can also try different values for the degree of the polynomial kernel and the coefficient (= independent term for the\n",
    "# poly and sigmoid kernels)\n",
    "\n",
    "# We define the parameter grids for these three hyperparameters\n",
    "\n",
    "param_grid = {'C': [0.1,1, 10, 100], 'gamma': [1,0.1,0.01,0.001],'kernel': ['rbf', 'poly', 'sigmoid'], 'degree':[1,2,3,4], 'coef0':np.logspace(-1,1,4)}\n",
    "\n",
    "# We perform the grid search\n",
    "gscv = GridSearchCV(model,param_grid,refit=True)\n",
    "gscv.fit(X_train,y_train)\n",
    "\n",
    "print(gscv.best_estimator_)\n",
    "\n",
    "# We predict on the test set and calculate model performance\n",
    "\n",
    "gscv_pred = gscv.predict(X_test)\n",
    "\n",
    "# Precision = tp / (tp+fp)\n",
    "tp = sum(gscv_pred * y_test)\n",
    "fp = np.sum(np.logical_and(gscv_pred == 1, y_test == 0))\n",
    "precision = tp / (tp+fp)\n",
    "\n",
    "# Print confusion matrix, classification report and calculated precision score\n",
    "print(confusion_matrix(y_test,gscv_pred))\n",
    "print(classification_report(y_test,gscv_pred))\n",
    "print('Calculated precision is ' + str(precision))\n"
   ]
  },
  {
   "cell_type": "code",
   "execution_count": 7,
   "metadata": {},
   "outputs": [
    {
     "data": {
      "text/plain": [
       "37"
      ]
     },
     "execution_count": 7,
     "metadata": {},
     "output_type": "execute_result"
    }
   ],
   "source": [
    "len(gscv_pred)"
   ]
  },
  {
   "cell_type": "code",
   "execution_count": 8,
   "metadata": {},
   "outputs": [
    {
     "data": {
      "text/plain": [
       "0"
      ]
     },
     "execution_count": 8,
     "metadata": {},
     "output_type": "execute_result"
    }
   ],
   "source": [
    "sum(y_test*gscv_pred)"
   ]
  },
  {
   "cell_type": "markdown",
   "metadata": {},
   "source": [
    "The calculated precision is 0.75, which indeed corresponds to the precision for classification 1 as mentioned in the classification report. For the label 1 (second row in classification report) the true positives are all samples that are predicted as 1 that actually have label 1 in the test set. The false positives are all samples that are predicted as label 1 when in fact they have label 0 in the test set. For the first row in the classification report (precision for label 0) this is the other way around, but we view 'precision' here as a positive being label 1 (not 0)."
   ]
  },
  {
   "cell_type": "markdown",
   "metadata": {},
   "source": [
    "\n",
    "## Random forests\n",
    "\n",
    "Follow the same steps as for SVM. Compare the two algorithms and report which one has better performance.\n",
    "\n",
    "The random forests classifiers allows to perform feature selection. Evaluate the importance of features extracting the top 50 informative features. A bar plot (`plt.bar()`) can be a useful tool to visualize this. "
   ]
  },
  {
   "cell_type": "code",
   "execution_count": 9,
   "metadata": {},
   "outputs": [
    {
     "name": "stdout",
     "output_type": "stream",
     "text": [
      "RandomForestClassifier(bootstrap=True, ccp_alpha=0.0, class_weight=None,\n",
      "                       criterion='entropy', max_depth=50, max_features='sqrt',\n",
      "                       max_leaf_nodes=None, max_samples=None,\n",
      "                       min_impurity_decrease=0.0, min_impurity_split=None,\n",
      "                       min_samples_leaf=1, min_samples_split=5,\n",
      "                       min_weight_fraction_leaf=0.0, n_estimators=50,\n",
      "                       n_jobs=None, oob_score=True, random_state=None,\n",
      "                       verbose=0, warm_start=False)\n",
      "[[28  1]\n",
      " [ 6  2]]\n",
      "              precision    recall  f1-score   support\n",
      "\n",
      "           0       0.82      0.97      0.89        29\n",
      "           1       0.67      0.25      0.36         8\n",
      "\n",
      "    accuracy                           0.81        37\n",
      "   macro avg       0.75      0.61      0.63        37\n",
      "weighted avg       0.79      0.81      0.78        37\n",
      "\n",
      "Calculated precision is 0.6666666666666666\n"
     ]
    }
   ],
   "source": [
    "# define the model\n",
    "model_rf = RandomForestClassifier()\n",
    "\n",
    "# For RandomForestClassifier the following hyperparameters can be tuned:\n",
    "# n_estimators, max_depth, max_features, min_sample_leaf, min_samples_split, oob_score, bootstrap and criterion\n",
    "\n",
    "\n",
    "n_estimators = [50, 100, 200, 1000]\n",
    "max_features = ['auto', 'sqrt']\n",
    "max_depth = [5, 10, 50, 100]\n",
    "min_samples_split = [2, 5, 10]\n",
    "criterion = ['entropy', 'gini']\n",
    "\n",
    "# For bootstrap and oob_score, the introduction of this notebook indicated to set them both to true\n",
    "# I don't know if we still need to do hyperparameter tuning over these two then?\n",
    "# If it takes too long we can just set both bootstrap and oob_score to true\n",
    "bootstrap = [True]\n",
    "oob_score = [True]\n",
    "\n",
    "\n",
    "# We define the parameter grids for these three hyperparameters\n",
    "\n",
    "param_grid = {'n_estimators': n_estimators, 'max_features' : max_features, 'max_depth' : max_depth, 'min_samples_split':min_samples_split, 'criterion':criterion, 'bootstrap': bootstrap, 'oob_score': oob_score}\n",
    "\n",
    "# We perform the grid search\n",
    "gscv = GridSearchCV(model_rf,param_grid,refit=True)\n",
    "gscv.fit(X_train,y_train)\n",
    "\n",
    "best_model = gscv.best_estimator_\n",
    "print(best_model)\n",
    "\n",
    "# We predict on the test set and calculate model performance\n",
    "\n",
    "gscv_pred = gscv.predict(X_test)\n",
    "\n",
    "# Precision = tp / (tp+fp)\n",
    "tp = sum(gscv_pred * y_test)\n",
    "fp = np.sum(np.logical_and(gscv_pred == 1, y_test == 0))\n",
    "precision = tp / (tp+fp)\n",
    "\n",
    "# Print confusion matrix, classification report and calculated precision score\n",
    "print(confusion_matrix(y_test,gscv_pred))\n",
    "print(classification_report(y_test,gscv_pred))\n",
    "print('Calculated precision is ' + str(precision))"
   ]
  },
  {
   "cell_type": "markdown",
   "metadata": {},
   "source": [
    "For SVM the calculated precision was approximately 0.64. For the random forest classifier, we get a higher precision of 0.82 approximately. Hence, in terms of precision, random forest outperforms the SVM here. In terms of recall and f1-score, the two types of classifiers do not differ as much (0.56 and 0.60 for SVM and 0.56 and 0.67 for random forest)."
   ]
  },
  {
   "cell_type": "code",
   "execution_count": 10,
   "metadata": {},
   "outputs": [
    {
     "data": {
      "text/plain": [
       "RandomForestClassifier(bootstrap=True, ccp_alpha=0.0, class_weight=None,\n",
       "                       criterion='entropy', max_depth=50, max_features='sqrt',\n",
       "                       max_leaf_nodes=None, max_samples=None,\n",
       "                       min_impurity_decrease=0.0, min_impurity_split=None,\n",
       "                       min_samples_leaf=1, min_samples_split=5,\n",
       "                       min_weight_fraction_leaf=0.0, n_estimators=50,\n",
       "                       n_jobs=None, oob_score=True, random_state=None,\n",
       "                       verbose=0, warm_start=False)"
      ]
     },
     "execution_count": 10,
     "metadata": {},
     "output_type": "execute_result"
    }
   ],
   "source": [
    "# Compare performance random forest and SVM\n",
    "best_model"
   ]
  },
  {
   "cell_type": "code",
   "execution_count": 11,
   "metadata": {},
   "outputs": [
    {
     "data": {
      "text/html": [
       "<div>\n",
       "<style scoped>\n",
       "    .dataframe tbody tr th:only-of-type {\n",
       "        vertical-align: middle;\n",
       "    }\n",
       "\n",
       "    .dataframe tbody tr th {\n",
       "        vertical-align: top;\n",
       "    }\n",
       "\n",
       "    .dataframe thead th {\n",
       "        text-align: right;\n",
       "    }\n",
       "</style>\n",
       "<table border=\"1\" class=\"dataframe\">\n",
       "  <thead>\n",
       "    <tr style=\"text-align: right;\">\n",
       "      <th></th>\n",
       "      <th>importance</th>\n",
       "    </tr>\n",
       "  </thead>\n",
       "  <tbody>\n",
       "    <tr>\n",
       "      <th>ABCB1</th>\n",
       "      <td>0.043522</td>\n",
       "    </tr>\n",
       "    <tr>\n",
       "      <th>TM4SF4</th>\n",
       "      <td>0.029039</td>\n",
       "    </tr>\n",
       "    <tr>\n",
       "      <th>KRT7</th>\n",
       "      <td>0.026182</td>\n",
       "    </tr>\n",
       "    <tr>\n",
       "      <th>MIR205HG</th>\n",
       "      <td>0.025092</td>\n",
       "    </tr>\n",
       "    <tr>\n",
       "      <th>SYCP2</th>\n",
       "      <td>0.023512</td>\n",
       "    </tr>\n",
       "    <tr>\n",
       "      <th>PRSS3</th>\n",
       "      <td>0.021836</td>\n",
       "    </tr>\n",
       "    <tr>\n",
       "      <th>FABP1</th>\n",
       "      <td>0.019955</td>\n",
       "    </tr>\n",
       "    <tr>\n",
       "      <th>EPS8L3</th>\n",
       "      <td>0.017158</td>\n",
       "    </tr>\n",
       "    <tr>\n",
       "      <th>HOXA9</th>\n",
       "      <td>0.016325</td>\n",
       "    </tr>\n",
       "    <tr>\n",
       "      <th>CEACAM5</th>\n",
       "      <td>0.015983</td>\n",
       "    </tr>\n",
       "    <tr>\n",
       "      <th>NEFL</th>\n",
       "      <td>0.014388</td>\n",
       "    </tr>\n",
       "    <tr>\n",
       "      <th>S100P</th>\n",
       "      <td>0.013484</td>\n",
       "    </tr>\n",
       "    <tr>\n",
       "      <th>CDH17</th>\n",
       "      <td>0.013358</td>\n",
       "    </tr>\n",
       "    <tr>\n",
       "      <th>RPL39L</th>\n",
       "      <td>0.012817</td>\n",
       "    </tr>\n",
       "    <tr>\n",
       "      <th>ESRP1</th>\n",
       "      <td>0.012364</td>\n",
       "    </tr>\n",
       "    <tr>\n",
       "      <th>PSMB8</th>\n",
       "      <td>0.011560</td>\n",
       "    </tr>\n",
       "    <tr>\n",
       "      <th>AKR1C3</th>\n",
       "      <td>0.011463</td>\n",
       "    </tr>\n",
       "    <tr>\n",
       "      <th>NMU</th>\n",
       "      <td>0.011055</td>\n",
       "    </tr>\n",
       "    <tr>\n",
       "      <th>MUC13</th>\n",
       "      <td>0.011012</td>\n",
       "    </tr>\n",
       "    <tr>\n",
       "      <th>DUSP6</th>\n",
       "      <td>0.010968</td>\n",
       "    </tr>\n",
       "    <tr>\n",
       "      <th>IRX3</th>\n",
       "      <td>0.010930</td>\n",
       "    </tr>\n",
       "    <tr>\n",
       "      <th>PTN</th>\n",
       "      <td>0.010900</td>\n",
       "    </tr>\n",
       "    <tr>\n",
       "      <th>PHGR1</th>\n",
       "      <td>0.010264</td>\n",
       "    </tr>\n",
       "    <tr>\n",
       "      <th>GATA3</th>\n",
       "      <td>0.010036</td>\n",
       "    </tr>\n",
       "    <tr>\n",
       "      <th>VAMP8</th>\n",
       "      <td>0.009731</td>\n",
       "    </tr>\n",
       "    <tr>\n",
       "      <th>GNG11</th>\n",
       "      <td>0.009713</td>\n",
       "    </tr>\n",
       "    <tr>\n",
       "      <th>S100A9</th>\n",
       "      <td>0.009523</td>\n",
       "    </tr>\n",
       "    <tr>\n",
       "      <th>LYZ</th>\n",
       "      <td>0.009450</td>\n",
       "    </tr>\n",
       "    <tr>\n",
       "      <th>ALDH1A1</th>\n",
       "      <td>0.009329</td>\n",
       "    </tr>\n",
       "    <tr>\n",
       "      <th>FBP1</th>\n",
       "      <td>0.009194</td>\n",
       "    </tr>\n",
       "    <tr>\n",
       "      <th>TSPAN8</th>\n",
       "      <td>0.009044</td>\n",
       "    </tr>\n",
       "    <tr>\n",
       "      <th>EDN1</th>\n",
       "      <td>0.008638</td>\n",
       "    </tr>\n",
       "    <tr>\n",
       "      <th>FN1</th>\n",
       "      <td>0.008497</td>\n",
       "    </tr>\n",
       "    <tr>\n",
       "      <th>RGS5</th>\n",
       "      <td>0.008415</td>\n",
       "    </tr>\n",
       "    <tr>\n",
       "      <th>SQRDL</th>\n",
       "      <td>0.008364</td>\n",
       "    </tr>\n",
       "    <tr>\n",
       "      <th>DPP4</th>\n",
       "      <td>0.007903</td>\n",
       "    </tr>\n",
       "    <tr>\n",
       "      <th>SULF2</th>\n",
       "      <td>0.007717</td>\n",
       "    </tr>\n",
       "    <tr>\n",
       "      <th>DKK1</th>\n",
       "      <td>0.007713</td>\n",
       "    </tr>\n",
       "    <tr>\n",
       "      <th>LGALS1</th>\n",
       "      <td>0.007576</td>\n",
       "    </tr>\n",
       "    <tr>\n",
       "      <th>EFEMP1</th>\n",
       "      <td>0.007565</td>\n",
       "    </tr>\n",
       "    <tr>\n",
       "      <th>S100A10</th>\n",
       "      <td>0.007521</td>\n",
       "    </tr>\n",
       "    <tr>\n",
       "      <th>TNFSF10</th>\n",
       "      <td>0.007490</td>\n",
       "    </tr>\n",
       "    <tr>\n",
       "      <th>CLRN3</th>\n",
       "      <td>0.007261</td>\n",
       "    </tr>\n",
       "    <tr>\n",
       "      <th>TMC4</th>\n",
       "      <td>0.007084</td>\n",
       "    </tr>\n",
       "    <tr>\n",
       "      <th>LGALS3</th>\n",
       "      <td>0.007048</td>\n",
       "    </tr>\n",
       "    <tr>\n",
       "      <th>INHBB</th>\n",
       "      <td>0.006997</td>\n",
       "    </tr>\n",
       "    <tr>\n",
       "      <th>EPCAM</th>\n",
       "      <td>0.006843</td>\n",
       "    </tr>\n",
       "    <tr>\n",
       "      <th>RNF128</th>\n",
       "      <td>0.006809</td>\n",
       "    </tr>\n",
       "    <tr>\n",
       "      <th>PHOX2B</th>\n",
       "      <td>0.006622</td>\n",
       "    </tr>\n",
       "    <tr>\n",
       "      <th>PRR15L</th>\n",
       "      <td>0.006593</td>\n",
       "    </tr>\n",
       "  </tbody>\n",
       "</table>\n",
       "</div>"
      ],
      "text/plain": [
       "          importance\n",
       "ABCB1       0.043522\n",
       "TM4SF4      0.029039\n",
       "KRT7        0.026182\n",
       "MIR205HG    0.025092\n",
       "SYCP2       0.023512\n",
       "PRSS3       0.021836\n",
       "FABP1       0.019955\n",
       "EPS8L3      0.017158\n",
       "HOXA9       0.016325\n",
       "CEACAM5     0.015983\n",
       "NEFL        0.014388\n",
       "S100P       0.013484\n",
       "CDH17       0.013358\n",
       "RPL39L      0.012817\n",
       "ESRP1       0.012364\n",
       "PSMB8       0.011560\n",
       "AKR1C3      0.011463\n",
       "NMU         0.011055\n",
       "MUC13       0.011012\n",
       "DUSP6       0.010968\n",
       "IRX3        0.010930\n",
       "PTN         0.010900\n",
       "PHGR1       0.010264\n",
       "GATA3       0.010036\n",
       "VAMP8       0.009731\n",
       "GNG11       0.009713\n",
       "S100A9      0.009523\n",
       "LYZ         0.009450\n",
       "ALDH1A1     0.009329\n",
       "FBP1        0.009194\n",
       "TSPAN8      0.009044\n",
       "EDN1        0.008638\n",
       "FN1         0.008497\n",
       "RGS5        0.008415\n",
       "SQRDL       0.008364\n",
       "DPP4        0.007903\n",
       "SULF2       0.007717\n",
       "DKK1        0.007713\n",
       "LGALS1      0.007576\n",
       "EFEMP1      0.007565\n",
       "S100A10     0.007521\n",
       "TNFSF10     0.007490\n",
       "CLRN3       0.007261\n",
       "TMC4        0.007084\n",
       "LGALS3      0.007048\n",
       "INHBB       0.006997\n",
       "EPCAM       0.006843\n",
       "RNF128      0.006809\n",
       "PHOX2B      0.006622\n",
       "PRR15L      0.006593"
      ]
     },
     "execution_count": 11,
     "metadata": {},
     "output_type": "execute_result"
    }
   ],
   "source": [
    "# Extract top 50 most important features\n",
    "\n",
    "feature_importances = pd.DataFrame(best_model.feature_importances_, index = X.columns,  columns=['importance']).sort_values('importance', ascending=False)\n",
    "feature_importances.iloc[0:50]"
   ]
  },
  {
   "cell_type": "code",
   "execution_count": 12,
   "metadata": {},
   "outputs": [
    {
     "data": {
      "text/plain": [
       "<matplotlib.axes._subplots.AxesSubplot at 0x18546cc3f28>"
      ]
     },
     "execution_count": 12,
     "metadata": {},
     "output_type": "execute_result"
    },
    {
     "data": {
      "image/png": "[encoded data removed]",
      "text/plain": [
       "<Figure size 792x792 with 1 Axes>"
      ]
     },
     "metadata": {
      "needs_background": "light"
     },
     "output_type": "display_data"
    }
   ],
   "source": [
    "feature_importances.iloc[0:50].plot.bar(figsize=(11,11), title='50 most important features for drug response - RF classifier')"
   ]
  },
  {
   "cell_type": "markdown",
   "metadata": {},
   "source": [
    "ABCB1 seems to be the most important of the 50 by far (as the second most important feature, MIR205HG) has half the importance score). The importance of ABCB1 is approximately 0.042 which is on itself not spectacularly high. Moreover, we see that after the 20th feature approximately (halfway roughly), the importance scores do not differ as much for the last couple of features. The bar plot shows that the bars are at roughly the same height."
   ]
  },
  {
   "cell_type": "markdown",
   "metadata": {},
   "source": [
    "## Biomedical applications\n",
    "\n",
    "Driven by technological advances, there has recently been a dramatic increase in availability of biomedical data. Machine learning approaches are well suited to take advantage of this data and have been widely applied to many areas of biology. \n",
    "\n",
    "Example of these applications are genome annotation, biomarker identification, systems biology, genome data analysis, protein  function  prediction, protein  structure prediction, protein localization prediction, identification of protein interactions and drug discovery.\n",
    "\n",
    "SVM and RF methods are among the most popular machine learning methods applied in bioinformatics or computational biology.\n",
    "\n",
    "Perform a literature search and find a biomedical study in which SVM or RF is applied to obtain certain insights. <p><font color='#770a0a'>Explain the motivation behind using that specific algorithm in the study.\n",
    "</font></p>"
   ]
  },
  {
   "cell_type": "markdown",
   "metadata": {},
   "source": [
    "Biomedical study: Taoudi-Benchekroun, Y., Christiaens, D., Grigorescu, I., Gale-Grant, O., Schuh, A., Pietsch, M., Chew, A., Harper, N., Falconer, S., Poppe, T., Hughes, E., Hutter, J., Price, A. N., Tournier, J. D., Cordero-Grande, L., Counsell, S. J., Rueckert, D., Arichi, T., Hajnal, J. V., . . . Batalle, D. (2022, augustus). Predicting age and clinical risk from the neonatal connectome. NeuroImage, 257, 119319. https://doi.org/10.1016/j.neuroimage.2022.119319"
   ]
  },
  {
   "cell_type": "markdown",
   "metadata": {},
   "source": [
    "In this study, machine learning is used to interpret the brain connectivity maps (connectomes) of individual patients obtained with Diffusion MRI. This is done with the ultimate goal of understanding how and why individual development of perinatal brain connectivity differs per individual. This perinatal brain connectivity development plays an important role in the way motor, cognitive and behavioral abilities come to expression later in life.\n",
    "\n",
    "Random Forest regression is used in this study to predict demographic and neurodevelopmental characteristics from neonatal structural connectomes in a large sample of babies ($n$ = 524). Predictions of post menstrual age (PMA) and gestational age (GA) at birth were found to be accurate, both continuous target variables.\n",
    "\n",
    "They also used the ability of Random Forest to select the most important features for predicting the PMA and GA. Next to this they employed grid search to tune their hyperparameters without overfitting their data\n"
   ]
  },
  {
   "cell_type": "code",
   "execution_count": null,
   "metadata": {},
   "outputs": [],
   "source": []
  }
 ],
 "metadata": {
  "kernelspec": {
   "display_name": "Python 3",
   "language": "python",
   "name": "python3"
  },
  "language_info": {
   "codemirror_mode": {
    "name": "ipython",
    "version": 3
   },
   "file_extension": ".py",
   "mimetype": "text/x-python",
   "name": "python",
   "nbconvert_exporter": "python",
   "pygments_lexer": "ipython3",
   "version": "3.7.3"
  }
 },
 "nbformat": 4,
 "nbformat_minor": 2
}
