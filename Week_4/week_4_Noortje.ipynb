{
 "cells": [
  {
   "cell_type": "markdown",
   "metadata": {},
   "source": [
    "# Preliminaries\n",
    "\n",
    "## Dataset\n",
    "\n",
    "In this set of exercises we will use the same dataset as from [week 3](week_3.ipynb). \n",
    "\n",
    "\n",
    "As before, we provide the data already curated in the following two files:\n",
    "\n",
    "`RNA_expression_curated.csv`: [148 cell lines , 238 genes]\n",
    "\n",
    "`drug_response_curated.csv`: [148 cell lines , YM155 drug]\n",
    "\n",
    "The curated data can be read as `pandas` `DataFrame` in the following way:"
   ]
  },
  {
   "cell_type": "code",
   "execution_count": 1,
   "metadata": {},
   "outputs": [],
   "source": [
    "import pandas as pd\n",
    "\n",
    "gene_expression = pd.read_csv(\"./data/RNA_expression_curated.csv\", sep=',', header=0, index_col=0)\n",
    "drug_response = pd.read_csv(\"./data/drug_response_curated.csv\", sep=',', header=0, index_col=0)"
   ]
  },
  {
   "cell_type": "markdown",
   "metadata": {},
   "source": [
    "The goal of the exercises is to train support vector machine (SVM) and random forests classifiers on this dataset and explore and learn about their hyperparameters. "
   ]
  },
  {
   "cell_type": "markdown",
   "metadata": {},
   "source": [
    "## Tools\n",
    "\n",
    "The `scikit-learn` library provides the required tools for support vector machines, as well as for random forest algorithms."
   ]
  },
  {
   "cell_type": "code",
   "execution_count": 2,
   "metadata": {},
   "outputs": [],
   "source": [
    "from sklearn import svm \n",
    "from sklearn.ensemble import RandomForestClassifier\n",
    "from sklearn.model_selection import GridSearchCV\n",
    "from sklearn.model_selection import train_test_split\n",
    "from sklearn.datasets._samples_generator import make_blobs, make_circles\n",
    "from sklearn.metrics import classification_report"
   ]
  },
  {
   "cell_type": "markdown",
   "metadata": {},
   "source": [
    "Before proceeding, look up the documentation of the imported functions and read about their basic functionality. Below, we list some important parameters of SVMs and random forests that can be tuned during training."
   ]
  },
  {
   "cell_type": "markdown",
   "metadata": {},
   "source": [
    "#### Support Vector Machines (SVM)\n",
    "\n",
    "`C`: error term.\n",
    "\n",
    "`kernel`: similarity function ('linear', 'poly', 'sigmoid' or 'rbf')\n",
    "\n",
    "`gamma`: kernel coef. for 'rbf', 'poly' and 'sigmoid' kernels. It can be thought of as the ‘spread’ of the kernel and therefore the decision region.\n",
    "\n",
    "`degree`: degree for the 'poly' kernel.\n",
    "\n",
    "`coef0`: independt term in the 'poly' and 'sigmoid' kernels\n",
    "\n",
    "\n",
    "#### Random Forests\n",
    "\n",
    "`n_estimators`: number of trees in our random forest.\n",
    "\n",
    "`max_depth`: maximum number of levels in each decision tree\n",
    "\n",
    "`max_features`: maximum number of features to consider per split in an individual tree.\n",
    "\n",
    "`min_sample_leaf`: minimum number of data points per leaf node\n",
    "\n",
    "`min_samples_split`: minimum number of data points placed in a node before the node is split\n",
    "\n",
    "`oob_score`: the out-of-bag (OOB) error is the average error for each observation calculated using predictions from the trees that do not contain that observation in their respective bootstrap sample. Set this parameter to true.\n",
    "\n",
    "`bootstrap`: method for sampling data points (with or without replacement). Set this parameter to true.\n",
    "\n",
    "`criterion`: function used to measure the quality of the split (e.g. 'entropy' or 'gini')\n",
    "\n",
    "# Exercises\n",
    "\n",
    "## Support vector machines\n",
    "\n",
    "The  `make_blobs` and `make_circles` functions can be used to generate linearly and not linearly separable toy datasets. "
   ]
  },
  {
   "cell_type": "code",
   "execution_count": 3,
   "metadata": {},
   "outputs": [],
   "source": [
    "# data generation: linearly separable\n",
    "X, Y = make_blobs(n_samples=200, centers=2, n_features=2, random_state=1234)\n",
    "X = pd.DataFrame(X, columns=['x1', 'x2'])\n",
    "\n",
    "# splitting data into training and test set\n",
    "X_train, X_test, Y_train, Y_test = train_test_split(X, Y, test_size=0.33, random_state=333)"
   ]
  },
  {
   "cell_type": "markdown",
   "metadata": {},
   "source": [
    "The following code illustrates how to train a linear SVM classifier and plot the data points, the separating hyperplane, the support vectors and the margins that pass through them (considering the training data)"
   ]
  },
  {
   "cell_type": "code",
   "execution_count": 4,
   "metadata": {},
   "outputs": [
    {
     "data": {
      "image/png": "[encoded data removed]",
      "text/plain": [
       "<Figure size 432x288 with 1 Axes>"
      ]
     },
     "metadata": {
      "needs_background": "light"
     },
     "output_type": "display_data"
    }
   ],
   "source": [
    "import numpy as np\n",
    "import matplotlib.pyplot as plt\n",
    "\n",
    "# build the model\n",
    "model = svm.SVC(kernel='linear', random_state=33)\n",
    "model.fit(X_train, Y_train)\n",
    "\n",
    "# create plot\n",
    "fig, ax = plt.subplots()\n",
    "\n",
    "# get colors from qualitative colormap 'Paired'\n",
    "cmap = plt.cm.get_cmap('Paired')\n",
    "\n",
    "# plot data points\n",
    "ax.scatter(X_train.iloc[Y_train == 1, 0], X_train.iloc[Y_train == 1, 1],\n",
    "           c=[cmap(11)], label='1')\n",
    "ax.scatter(X_train.iloc[Y_train == 0, 0], X_train.iloc[Y_train == 0, 1],\n",
    "           c=[cmap(0)], label='0')\n",
    "ax.legend(loc='best')\n",
    "\n",
    "# plot the decision function\n",
    "# create grid to evaluate model\n",
    "x1_min, x1_max = X_train.iloc[:, 0].min() - 1, X_train.iloc[:, 0].max() + 1\n",
    "x2_min, x2_max = X_train.iloc[:, 1].min() - 1, X_train.iloc[:, 1].max() + 1\n",
    "\n",
    "XX, YY = np.meshgrid(np.arange(x1_min, x1_max, .2),\n",
    "                     np.arange(x2_min, x2_max, .2))\n",
    "\n",
    "xy = np.vstack([XX.ravel(), YY.ravel()]).T\n",
    "Z = model.decision_function(xy).reshape(XX.shape)\n",
    "\n",
    "# plot decision boundary and margins\n",
    "ax.contour(XX, YY, Z, colors='k', levels=[-1, 0, 1], alpha=0.5,\n",
    "           linestyles=['--', '-', '--'])\n",
    "\n",
    "# Establish the class for each point in the contour\n",
    "Z = model.predict(xy).reshape(XX.shape)\n",
    "\n",
    "# Visualization of the contour\n",
    "ax.contourf(XX, YY, Z, cmap='bwr', alpha=0.3)\n",
    "\n",
    "# plot support vectors, whose are responsible for building the margins\n",
    "ax.scatter(model.support_vectors_[:, 0], model.support_vectors_[:, 1], s=100,\n",
    "           linewidth=1, facecolors='none', edgecolors='k', marker='s')\n",
    "\n",
    "ax.axis([x1_min, x1_max, x2_min, x2_max])\n",
    "plt.axis('tight')\n",
    "plt.title('Linear kernel SVM')\n",
    "plt.show()"
   ]
  },
  {
   "cell_type": "markdown",
   "metadata": {},
   "source": [
    "Train a radial basis function (RBF) SVM classifier with `gamma=0.5` and plot the results in the same way."
   ]
  },
  {
   "cell_type": "code",
   "execution_count": 5,
   "metadata": {},
   "outputs": [],
   "source": [
    "# data generation: not linearly separable\n",
    "X, Y = make_circles(n_samples=200, noise=0.05, random_state=1234)\n",
    "X = pd.DataFrame(X, columns=['x1', 'x2'])\n",
    "\n",
    "# splitting data into training and test set\n",
    "X_train, X_test, Y_train, Y_test = train_test_split(X, Y, test_size=0.33, random_state=333)"
   ]
  },
  {
   "cell_type": "markdown",
   "metadata": {},
   "source": [
    "<p><font color='#770a0a'>When should a RBF kernel be used over a linear kernel? Motivate your answer.</font></p>\n",
    "https://medium.com/@suvigya2001/the-gaussian-rbf-kernel-in-non-linear-svm-2fb1c822aae0\n",
    "The RBF kernel is able to handle non-linear data, so when \n",
    "\n",
    "<p><font color='#770a0a'>Do we need to normalize the data before using a kernel function? Motivate your answer.\n",
    "</font></p>\n",
    "Yes, the RBF kernel for example uses a Euclidean distance calculation in its function. It is important to have normalized features, otherwise the Euclidean distance only considers features of the highest scale as important\n"
   ]
  },
  {
   "cell_type": "markdown",
   "metadata": {},
   "source": [
    "## Predicting drug response on cell lines from gene expression data with SVMs\n",
    "\n",
    "Explore the hyper-parameter space of an SVM classifier with cross-validation for the Genomics of Drug Sensitivity in Cancer (GDSC) dataset. The`GridSearchCV` function can be used to specify a grid of parameter values with the `param_grid` parameter.\n",
    "\n",
    "Calculate the precision of your predictions, and compare your calculations with the results of `classification_report`, which displays many classification metrics.\n",
    "\n",
    "</font></p>\n"
   ]
  },
  {
   "cell_type": "code",
   "execution_count": 62,
   "metadata": {},
   "outputs": [
    {
     "name": "stderr",
     "output_type": "stream",
     "text": [
      "C:\\Users\\20193480\\.conda\\envs\\ML_8DM50\\lib\\site-packages\\ipykernel_launcher.py:20: SettingWithCopyWarning: \n",
      "A value is trying to be set on a copy of a slice from a DataFrame.\n",
      "Try using .loc[row_indexer,col_indexer] = value instead\n",
      "\n",
      "See the caveats in the documentation: https://pandas.pydata.org/pandas-docs/stable/user_guide/indexing.html#returning-a-view-versus-a-copy\n",
      "C:\\Users\\20193480\\.conda\\envs\\ML_8DM50\\lib\\site-packages\\pandas\\core\\frame.py:3093: SettingWithCopyWarning: \n",
      "A value is trying to be set on a copy of a slice from a DataFrame\n",
      "\n",
      "See the caveats in the documentation: https://pandas.pydata.org/pandas-docs/stable/user_guide/indexing.html#returning-a-view-versus-a-copy\n",
      "  self._where(-key, value, inplace=True)\n",
      "C:\\Users\\20193480\\.conda\\envs\\ML_8DM50\\lib\\site-packages\\ipykernel_launcher.py:21: SettingWithCopyWarning: \n",
      "A value is trying to be set on a copy of a slice from a DataFrame.\n",
      "Try using .loc[row_indexer,col_indexer] = value instead\n",
      "\n",
      "See the caveats in the documentation: https://pandas.pydata.org/pandas-docs/stable/user_guide/indexing.html#returning-a-view-versus-a-copy\n",
      "C:\\Users\\20193480\\.conda\\envs\\ML_8DM50\\lib\\site-packages\\pandas\\core\\frame.py:3093: SettingWithCopyWarning: \n",
      "A value is trying to be set on a copy of a slice from a DataFrame\n",
      "\n",
      "See the caveats in the documentation: https://pandas.pydata.org/pandas-docs/stable/user_guide/indexing.html#returning-a-view-versus-a-copy\n",
      "  self._where(-key, value, inplace=True)\n",
      "C:\\Users\\20193480\\.conda\\envs\\ML_8DM50\\lib\\site-packages\\ipykernel_launcher.py:23: SettingWithCopyWarning: \n",
      "A value is trying to be set on a copy of a slice from a DataFrame.\n",
      "Try using .loc[row_indexer,col_indexer] = value instead\n",
      "\n",
      "See the caveats in the documentation: https://pandas.pydata.org/pandas-docs/stable/user_guide/indexing.html#returning-a-view-versus-a-copy\n",
      "C:\\Users\\20193480\\.conda\\envs\\ML_8DM50\\lib\\site-packages\\pandas\\core\\frame.py:3093: SettingWithCopyWarning: \n",
      "A value is trying to be set on a copy of a slice from a DataFrame\n",
      "\n",
      "See the caveats in the documentation: https://pandas.pydata.org/pandas-docs/stable/user_guide/indexing.html#returning-a-view-versus-a-copy\n",
      "  self._where(-key, value, inplace=True)\n",
      "C:\\Users\\20193480\\.conda\\envs\\ML_8DM50\\lib\\site-packages\\ipykernel_launcher.py:24: SettingWithCopyWarning: \n",
      "A value is trying to be set on a copy of a slice from a DataFrame.\n",
      "Try using .loc[row_indexer,col_indexer] = value instead\n",
      "\n",
      "See the caveats in the documentation: https://pandas.pydata.org/pandas-docs/stable/user_guide/indexing.html#returning-a-view-versus-a-copy\n",
      "C:\\Users\\20193480\\.conda\\envs\\ML_8DM50\\lib\\site-packages\\pandas\\core\\frame.py:3093: SettingWithCopyWarning: \n",
      "A value is trying to be set on a copy of a slice from a DataFrame\n",
      "\n",
      "See the caveats in the documentation: https://pandas.pydata.org/pandas-docs/stable/user_guide/indexing.html#returning-a-view-versus-a-copy\n",
      "  self._where(-key, value, inplace=True)\n"
     ]
    }
   ],
   "source": [
    "import pandas as pd\n",
    "from sklearn import preprocessing\n",
    "from sklearn.preprocessing import StandardScaler\n",
    "from sklearn.model_selection import GridSearchCV\n",
    "import matplotlib.pyplot as plt\n",
    "\n",
    "\n",
    "gene_expression = pd.read_csv(\"./data/RNA_expression_curated.csv\", sep=',', header=0, index_col=0)\n",
    "drug_response = pd.read_csv(\"./data/drug_response_curated.csv\", sep=',', header=0, index_col=0)\n",
    "\n",
    "X_train = gene_expression.iloc[:-30,:]\n",
    "X_test = gene_expression.iloc[-30:,:]\n",
    "y_train = drug_response.iloc[:-30,:]\n",
    "y_test = drug_response.iloc[-30:,:]\n",
    "\n",
    "# Calculate z-score of \n",
    "mean = y_train.mean()\n",
    "std = np.std(y_train)\n",
    "\n",
    "y_train[(y_train-mean)/std > 0] = int(1)\n",
    "y_train[(y_train-mean)/std < 0] = int(0)\n",
    "\n",
    "y_test[(y_test-mean)/std > 0] = int(1)\n",
    "y_test[(y_test-mean)/std < 0] = int(0)"
   ]
  },
  {
   "cell_type": "code",
   "execution_count": 29,
   "metadata": {},
   "outputs": [
    {
     "name": "stdout",
     "output_type": "stream",
     "text": [
      "linear\n",
      "SVC(C=1, random_state=33)\n",
      "precision of kernel  linear  =  0.6666666666666666 \n",
      "\n",
      "\n",
      "              precision    recall  f1-score   support\n",
      "\n",
      "         0.0       0.53      0.62      0.57        13\n",
      "         1.0       0.67      0.59      0.62        17\n",
      "\n",
      "    accuracy                           0.60        30\n",
      "   macro avg       0.60      0.60      0.60        30\n",
      "weighted avg       0.61      0.60      0.60        30\n",
      "\n",
      "\n",
      "rbf\n",
      "SVC(C=100, gamma=0.001, random_state=33)\n",
      "precision of kernel  rbf  =  0.7777777777777778 \n",
      "\n",
      "\n",
      "              precision    recall  f1-score   support\n",
      "\n",
      "         0.0       0.75      0.69      0.72        13\n",
      "         1.0       0.78      0.82      0.80        17\n",
      "\n",
      "    accuracy                           0.77        30\n",
      "   macro avg       0.76      0.76      0.76        30\n",
      "weighted avg       0.77      0.77      0.77        30\n",
      "\n",
      "\n",
      "poly\n",
      "SVC(C=100, coef0=0.1, degree=1, gamma=0.001, random_state=33)\n",
      "precision of kernel  poly  =  0.7777777777777778 \n",
      "\n",
      "\n",
      "              precision    recall  f1-score   support\n",
      "\n",
      "         0.0       0.75      0.69      0.72        13\n",
      "         1.0       0.78      0.82      0.80        17\n",
      "\n",
      "    accuracy                           0.77        30\n",
      "   macro avg       0.76      0.76      0.76        30\n",
      "weighted avg       0.77      0.77      0.77        30\n",
      "\n",
      "\n",
      "sigmoid\n",
      "SVC(C=100, coef0=0.1, gamma=0.001, random_state=33)\n",
      "precision of kernel  sigmoid  =  0.7777777777777778 \n",
      "\n",
      "\n",
      "              precision    recall  f1-score   support\n",
      "\n",
      "         0.0       0.75      0.69      0.72        13\n",
      "         1.0       0.78      0.82      0.80        17\n",
      "\n",
      "    accuracy                           0.77        30\n",
      "   macro avg       0.76      0.76      0.76        30\n",
      "weighted avg       0.77      0.77      0.77        30\n",
      "\n",
      "\n"
     ]
    }
   ],
   "source": [
    "from sklearn import metrics\n",
    "from sklearn.pipeline import Pipeline\n",
    "\n",
    "scaler = StandardScaler()\n",
    "scaler.fit(X_train)\n",
    "X_train = scaler.transform(X_train)\n",
    "X_test = scaler.transform(X_test)\n",
    "\n",
    "# Define parameter grid\n",
    "kernels = ['linear','rbf','poly','sigmoid']\n",
    "performance = []\n",
    "\n",
    "for kernel in kernels:\n",
    "    print(kernel)\n",
    "    if kernel == 'linear':\n",
    "        param_grid = {'C':[0.01, 0.1,1,10,100]}\n",
    "    elif kernel == 'rbf':\n",
    "        param_grid = {'C':[0.01, 0.1,1,10,100], 'gamma':[1,0.1,0.01,0.001]}\n",
    "    elif kernel == 'poly':\n",
    "        param_grid = {'C':[0.01, 0.1,1,10,100], 'gamma':[1,0.1,0.01,0.001],'degree':[1,2,3], 'coef0':[0.1,0.5,0.9]}\n",
    "    elif kernel == 'sigmoid':\n",
    "        param_grid = {'C':[0.01, 0.1,1,10,100], 'gamma':[1,0.1,0.01,0.001], 'coef0':[0.1,0.5,0.9]}\n",
    "    else:\n",
    "        pass\n",
    "\n",
    "    # Define the model\n",
    "    model = svm.SVC(random_state=33)\n",
    "    clf = GridSearchCV(model, param_grid, cv=5, scoring='neg_mean_squared_error')\n",
    "    clf.fit(X_train, y_train.values.ravel())\n",
    "    \n",
    "    print(clf.best_estimator_)\n",
    "    # Predict \n",
    "    y_predict = clf.predict(X_test)\n",
    "    \n",
    "    # precision calculation\n",
    "    tp = 0\n",
    "    fp = 0\n",
    "    tn = 0 \n",
    "    fn = 0\n",
    "    \n",
    "    for test,predict in list(zip(y_test['YM155'],y_predict)):\n",
    "        if test == 1 and predict == 1:\n",
    "            tp = tp + 1\n",
    "        elif test == 1 and predict == 0:\n",
    "            fn = fn + 1\n",
    "        elif test == 0 and predict == 0:\n",
    "            tn = tn + 1\n",
    "        elif test == 0 and predict == 1:\n",
    "            fp = fp + 1\n",
    "    precision = tp / (tp+fp)\n",
    "    print('precision of kernel ', kernel, ' = ',precision,'\\n')\n",
    "    \n",
    "    print()\n",
    "    print(metrics.classification_report(y_test.values.ravel(), y_predict))\n",
    "    print()\n",
    "    \n",
    "    print(\"interpretatie:\")\n",
    "    print('The precision is equal to the precision calculated based on class 1')\n",
    "    print('All kernels (except for the linear one) are performing similar')\n",
    "    "
   ]
  },
  {
   "cell_type": "markdown",
   "metadata": {},
   "source": [
    "## Random forests\n",
    "\n",
    "Follow the same steps as for SVM. Compare the two algorithms and report which one has better performance.\n",
    "\n",
    "The random forests classifiers allows to perform feature selection. Evaluate the importance of features extracting the top 50 informative features. A bar plot (`plt.bar()`) can be a useful tool to visualize this. \n",
    "\n",
    "\n"
   ]
  },
  {
   "cell_type": "code",
   "execution_count": 34,
   "metadata": {},
   "outputs": [
    {
     "name": "stdout",
     "output_type": "stream",
     "text": [
      "Best hyper-parameters of RF are  RandomForestClassifier(criterion='entropy', max_depth=15, max_features=15,\n",
      "                       min_samples_split=5, n_estimators=20, oob_score=True,\n",
      "                       random_state=33)\n"
     ]
    }
   ],
   "source": [
    "# Used this method: https://mljar.com/blog/feature-importance-in-random-forest/\n",
    "\n",
    "param_grid = {'n_estimators':[10,15,20,30],'max_depth':[7,15,20],'max_features':[5,10,15],'min_samples_split':[2,5,8],'criterion':['entropy','gini']}\n",
    "RF = RandomForestClassifier(oob_score = True, bootstrap=True, random_state = 33)\n",
    "\n",
    "clf = GridSearchCV(RF, param_grid, cv=10, scoring='neg_mean_squared_error')\n",
    "clf.fit(X_train, y_train.values.ravel())\n",
    "print(\"Best hyper-parameters of RF are \",clf.best_estimator_)"
   ]
  },
  {
   "cell_type": "code",
   "execution_count": 64,
   "metadata": {},
   "outputs": [
    {
     "name": "stdout",
     "output_type": "stream",
     "text": [
      "Precision =  0.5666666666666667 \n",
      "\n",
      "\n",
      "              precision    recall  f1-score   support\n",
      "\n",
      "         0.0       1.00      0.00      0.00        13\n",
      "         1.0       0.57      1.00      0.72        17\n",
      "\n",
      "    accuracy                           0.57        30\n",
      "   macro avg       0.78      0.50      0.36        30\n",
      "weighted avg       0.75      0.57      0.41        30\n",
      "\n",
      "\n",
      "Interpretation:\n",
      "These top 50 genes are selected based on the best model (with best hyper-parameters) by the GridSearch\n",
      "Therefore, the top 50 will be affected when other hyper-parameters are selected\n",
      "The importance is impurity-based: total reduction of the selection criterion caused by that feature\n"
     ]
    },
    {
     "data": {
      "image/png": "[encoded data removed]",
      "text/plain": [
       "<Figure size 864x576 with 1 Axes>"
      ]
     },
     "metadata": {
      "needs_background": "light"
     },
     "output_type": "display_data"
    }
   ],
   "source": [
    "# Get best model\n",
    "best_model = clf.best_estimator_\n",
    "y_predict = best_model.predict(X_test)\n",
    "\n",
    "# precision calculation\n",
    "tp = 0\n",
    "fp = 0\n",
    "tn = 0 \n",
    "fn = 0\n",
    "\n",
    "for test,predict in list(zip(y_test['YM155'],y_predict)):\n",
    "    if test == 1 and predict == 1:\n",
    "        tp = tp + 1\n",
    "    elif test == 1 and predict == 0:\n",
    "        fn = fn + 1\n",
    "    elif test == 0 and predict == 0:\n",
    "        tn = tn + 1\n",
    "    elif test == 0 and predict == 1:\n",
    "        fp = fp + 1\n",
    "precision = tp / (tp+fp)\n",
    "print('Precision = ',precision,'\\n')\n",
    "print()\n",
    "print(metrics.classification_report(y_test.values.ravel(), y_predict,zero_division=1))\n",
    "print()\n",
    "\n",
    "# Create dataframe with only importance and genes\n",
    "importances_df = pd.DataFrame(index = list(X_train.columns))\n",
    "importances_df['importance'] = best_model.feature_importances_\n",
    "# Sort dataframe by importance\n",
    "import_50 = importances_df.sort_values(by=['importance'], ascending=False)[0:50]\n",
    "\n",
    "print(\"Interpretation:\")\n",
    "print(\"These top 50 genes are selected based on the best model (with best hyper-parameters) by the GridSearch\")\n",
    "print(\"Therefore, the top 50 will be affected when other hyper-parameters are selected\")\n",
    "print(\"The importance is impurity-based: total reduction of the selection criterion caused by that feature\")\n",
    "\n",
    "# Visualize\n",
    "fig, ax = plt.subplots(figsize=(12,8))\n",
    "plt.bar(import_50.index.values, import_50['importance'])\n",
    "plt.xticks(rotation=90)\n",
    "plt.xlabel('genes')\n",
    "plt.ylabel('importances')\n",
    "plt.show()"
   ]
  },
  {
   "cell_type": "markdown",
   "metadata": {},
   "source": [
    "## Biomedical applications\n",
    "\n",
    "Driven by technological advances, there has recently been a dramatic increase in availability of biomedical data. Machine learning approaches are well suited to take advantage of this data and have been widely applied to many areas of biology. \n",
    "\n",
    "Example of these applications are genome annotation, biomarker identification, systems biology, genome data analysis, protein  function  prediction, protein  structure prediction, protein localization prediction, identification of protein interactions and drug discovery.\n",
    "\n",
    "SVM and RF methods are among the most popular machine learning methods applied in bioinformatics or computational biology.\n",
    "\n",
    "Perform a literature search and find a biomedical study in which SVM or RF is applied to obtain certain insights. <p><font color='#770a0a'>Explain the motivation behind using that specific algorithm in the study.\n",
    "</font></p>"
   ]
  },
  {
   "cell_type": "markdown",
   "metadata": {},
   "source": [
    "</font></p>\n"
   ]
  }
 ],
 "metadata": {
  "kernelspec": {
   "display_name": "Python 3",
   "language": "python",
   "name": "python3"
  },
  "language_info": {
   "codemirror_mode": {
    "name": "ipython",
    "version": 3
   },
   "file_extension": ".py",
   "mimetype": "text/x-python",
   "name": "python",
   "nbconvert_exporter": "python",
   "pygments_lexer": "ipython3",
   "version": "3.6.13"
  }
 },
 "nbformat": 4,
 "nbformat_minor": 2
}
